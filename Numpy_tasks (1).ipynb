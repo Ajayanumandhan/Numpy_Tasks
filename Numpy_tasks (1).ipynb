{
  "cells": [
    {
      "cell_type": "markdown",
      "metadata": {
        "id": "-QV-VoQ8TXvr"
      },
      "source": [
        "# Numpy\n",
        "\n"
      ]
    },
    {
      "cell_type": "markdown",
      "metadata": {
        "id": "erO2q03BTXvu"
      },
      "source": [
        "#### 1. Import the numpy package under the name `np` (★☆☆) \n",
        "(**hint**: import … as …)"
      ]
    },
    {
      "cell_type": "code",
      "execution_count": null,
      "metadata": {
        "collapsed": true,
        "id": "qR_Q4n59TXv4"
      },
      "outputs": [],
      "source": [
        "import numpy as np"
      ]
    },
    {
      "cell_type": "markdown",
      "metadata": {
        "id": "uUt-B2RiTXv5"
      },
      "source": [
        "#### 2. Print the numpy version and the configuration (★☆☆) \n",
        "(**hint**: np.\\_\\_version\\_\\_, np.show\\_config)"
      ]
    },
    {
      "cell_type": "code",
      "execution_count": null,
      "metadata": {
        "id": "-XiSytMVTXv5",
        "colab": {
          "base_uri": "https://localhost:8080/"
        },
        "outputId": "3fe21cf6-f1b1-4737-a835-b2ce29dddc23"
      },
      "outputs": [
        {
          "output_type": "execute_result",
          "data": {
            "text/plain": [
              "('1.21.6', <function numpy.__config__.show()>)"
            ]
          },
          "metadata": {},
          "execution_count": 2
        }
      ],
      "source": [
        "np.__version__,np.show_config"
      ]
    },
    {
      "cell_type": "markdown",
      "metadata": {
        "id": "FZfuBjsxTXv6"
      },
      "source": [
        "#### 3. Create a null vector of size 10 (★☆☆) \n",
        "(**hint**: np.zeros)"
      ]
    },
    {
      "cell_type": "code",
      "execution_count": null,
      "metadata": {
        "id": "w5AFMulCTXv6",
        "colab": {
          "base_uri": "https://localhost:8080/"
        },
        "outputId": "f7468efe-46c8-4d10-d103-8a3741fcd76e"
      },
      "outputs": [
        {
          "output_type": "execute_result",
          "data": {
            "text/plain": [
              "array([0., 0., 0., 0., 0., 0., 0., 0., 0., 0.])"
            ]
          },
          "metadata": {},
          "execution_count": 15
        }
      ],
      "source": [
        "Ajay=np.zeros(10)\n",
        "Ajay"
      ]
    },
    {
      "cell_type": "markdown",
      "metadata": {
        "id": "INUbnr6sTXv6"
      },
      "source": [
        "#### 4.  How to find the memory size of any array (★☆☆) \n",
        "(**hint**: size, itemsize)"
      ]
    },
    {
      "cell_type": "code",
      "execution_count": null,
      "metadata": {
        "id": "_0IFO7ZqTXv7",
        "colab": {
          "base_uri": "https://localhost:8080/"
        },
        "outputId": "9f173d87-946f-4523-8968-963a48d23615"
      },
      "outputs": [
        {
          "output_type": "execute_result",
          "data": {
            "text/plain": [
              "(10, 8)"
            ]
          },
          "metadata": {},
          "execution_count": 17
        }
      ],
      "source": [
        "Ajay.size,Ajay.itemsize"
      ]
    },
    {
      "cell_type": "markdown",
      "metadata": {
        "id": "vaeMGZagTXv7"
      },
      "source": [
        "#### 5.  How to get the documentation of the numpy add function from the command line? (★☆☆) \n",
        "(**hint**: np.info)"
      ]
    },
    {
      "cell_type": "code",
      "execution_count": null,
      "metadata": {
        "collapsed": true,
        "id": "3YzQo0OdTXv8",
        "colab": {
          "base_uri": "https://localhost:8080/"
        },
        "outputId": "be8afa38-3b89-40f2-e9d7-d3eca35249ce"
      },
      "outputs": [
        {
          "output_type": "execute_result",
          "data": {
            "text/plain": [
              "<function numpy.info(object=None, maxwidth=76, output=<ipykernel.iostream.OutStream object at 0x7f7f79c444d0>, toplevel='numpy')>"
            ]
          },
          "metadata": {},
          "execution_count": 18
        }
      ],
      "source": [
        "np.info"
      ]
    },
    {
      "cell_type": "markdown",
      "metadata": {
        "id": "DTsJjNLwTXv8"
      },
      "source": [
        "#### 6.  Create a null vector of size 10 but the fifth value which is 1 (★☆☆) \n",
        "(**hint**: array\\[4\\])"
      ]
    },
    {
      "cell_type": "code",
      "execution_count": null,
      "metadata": {
        "id": "FRLWXpKpTXv9",
        "colab": {
          "base_uri": "https://localhost:8080/"
        },
        "outputId": "4911bee2-c1df-4edb-bc0e-240c897b1529"
      },
      "outputs": [
        {
          "output_type": "execute_result",
          "data": {
            "text/plain": [
              "array([0., 0., 0., 0., 1., 0., 0., 0., 0., 0.])"
            ]
          },
          "metadata": {},
          "execution_count": 27
        }
      ],
      "source": [
        "Ajay=np.zeros(10);Ajay[4]=1\n",
        "Ajay"
      ]
    },
    {
      "cell_type": "markdown",
      "metadata": {
        "id": "tLOxrxAQTXv9"
      },
      "source": [
        "#### 7.  Create a vector with values ranging from 10 to 49 (★☆☆) \n",
        "(**hint**: np.arange)"
      ]
    },
    {
      "cell_type": "code",
      "execution_count": null,
      "metadata": {
        "id": "veRKaBGETXv9",
        "colab": {
          "base_uri": "https://localhost:8080/"
        },
        "outputId": "8e13043f-2de2-42a5-dacb-5ee45a044df2"
      },
      "outputs": [
        {
          "output_type": "execute_result",
          "data": {
            "text/plain": [
              "array([10, 11, 12, 13, 14, 15, 16, 17, 18, 19, 20, 21, 22, 23, 24, 25, 26,\n",
              "       27, 28, 29, 30, 31, 32, 33, 34, 35, 36, 37, 38, 39, 40, 41, 42, 43,\n",
              "       44, 45, 46, 47, 48])"
            ]
          },
          "metadata": {},
          "execution_count": 28
        }
      ],
      "source": [
        "np.arange(10,49)"
      ]
    },
    {
      "cell_type": "markdown",
      "metadata": {
        "id": "BGFQszbiTXv-"
      },
      "source": [
        "#### 8.  Reverse a vector (first element becomes last) (★☆☆) \n",
        "(**hint**: array\\[::-1\\])"
      ]
    },
    {
      "cell_type": "code",
      "execution_count": null,
      "metadata": {
        "id": "upeehe_pTXv-",
        "colab": {
          "base_uri": "https://localhost:8080/"
        },
        "outputId": "977ba69a-ac9f-4d04-efad-af93b6125fac"
      },
      "outputs": [
        {
          "output_type": "stream",
          "name": "stdout",
          "text": [
            "original array:\n",
            "[12 13 14 15 16 17 18 19 20 21 22 23]\n",
            "Reverse array:\n",
            "[23 22 21 20 19 18 17 16 15 14 13 12]\n"
          ]
        }
      ],
      "source": [
        "x=np.arange(12,24)\n",
        "print(\"original array:\")\n",
        "print(x)\n",
        "print(\"Reverse array:\")\n",
        "x=x[::-1]\n",
        "print(x)\n"
      ]
    },
    {
      "cell_type": "markdown",
      "metadata": {
        "id": "BqJF9CVOTXv-"
      },
      "source": [
        "#### 9.  Create a 3x3 matrix with values ranging from 0 to 8 (★☆☆) \n",
        "(**hint**: reshape)"
      ]
    },
    {
      "cell_type": "code",
      "execution_count": null,
      "metadata": {
        "id": "g5vOiHfjTXv_",
        "colab": {
          "base_uri": "https://localhost:8080/"
        },
        "outputId": "4f833ef9-fff8-4a54-bf19-c7092d14f847"
      },
      "outputs": [
        {
          "output_type": "stream",
          "name": "stdout",
          "text": [
            "[[0 1 2]\n",
            " [3 4 5]\n",
            " [6 7 8]]\n"
          ]
        }
      ],
      "source": [
        "y=np.arange(0,9).reshape(3,3)\n",
        "print(y)"
      ]
    },
    {
      "cell_type": "markdown",
      "metadata": {
        "id": "Atu9IXbOTXv_"
      },
      "source": [
        "#### 10. Find indices of non-zero elements from \\[1,2,0,0,4,0\\] (★☆☆) \n",
        "(**hint**: np.nonzero)"
      ]
    },
    {
      "cell_type": "code",
      "execution_count": null,
      "metadata": {
        "id": "CJxfphmqTXv_",
        "colab": {
          "base_uri": "https://localhost:8080/"
        },
        "outputId": "85bedd16-5f16-40aa-f57e-575fe5b082bd"
      },
      "outputs": [
        {
          "output_type": "stream",
          "name": "stdout",
          "text": [
            "(array([0, 1, 4]),)\n"
          ]
        }
      ],
      "source": [
        "z=[1,2,0,0,4,0]\n",
        "w=np.nonzero(z)\n",
        "print(w)\n"
      ]
    },
    {
      "cell_type": "markdown",
      "metadata": {
        "id": "1Sq_p2q1TXwA"
      },
      "source": [
        "#### 11. Create a 3x3 identity matrix (★☆☆) \n",
        "(**hint**: np.eye)"
      ]
    },
    {
      "cell_type": "code",
      "execution_count": null,
      "metadata": {
        "id": "NAt3fp-gTXwA",
        "colab": {
          "base_uri": "https://localhost:8080/"
        },
        "outputId": "de225406-94a7-43e5-a54a-90a1c0e19825"
      },
      "outputs": [
        {
          "output_type": "stream",
          "name": "stdout",
          "text": [
            "[[1. 0. 0.]\n",
            " [0. 1. 0.]\n",
            " [0. 0. 1.]]\n"
          ]
        }
      ],
      "source": [
        "q=np.eye(3)\n",
        "print(q)"
      ]
    },
    {
      "cell_type": "markdown",
      "metadata": {
        "id": "f2ubBqEWTXwA"
      },
      "source": [
        "#### 12. Create a 3x3x3 array with random values (★☆☆) \n",
        "(**hint**: np.random.random)"
      ]
    },
    {
      "cell_type": "code",
      "execution_count": null,
      "metadata": {
        "collapsed": true,
        "id": "rCSVNKd0TXwA",
        "colab": {
          "base_uri": "https://localhost:8080/"
        },
        "outputId": "d9818886-1c44-41ba-d486-0110c57147d3"
      },
      "outputs": [
        {
          "output_type": "execute_result",
          "data": {
            "text/plain": [
              "array([[[0.34045967, 0.03769666, 0.39205825],\n",
              "        [0.13518875, 0.0598567 , 0.21935955],\n",
              "        [0.39299591, 0.30421126, 0.38090777]],\n",
              "\n",
              "       [[0.24600297, 0.31883484, 0.37796733],\n",
              "        [0.75365357, 0.87695095, 0.79100768],\n",
              "        [0.98867036, 0.90457192, 0.69445377]],\n",
              "\n",
              "       [[0.2096195 , 0.2666914 , 0.12741148],\n",
              "        [0.83338958, 0.61660076, 0.34570029],\n",
              "        [0.076377  , 0.33989086, 0.99471541]]])"
            ]
          },
          "metadata": {},
          "execution_count": 3
        }
      ],
      "source": [
        "e=np.random.random((3,3,3))\n",
        "(e)"
      ]
    },
    {
      "cell_type": "markdown",
      "metadata": {
        "id": "f_T7yn5XTXwB"
      },
      "source": [
        "#### 13. Create a 10x10 array with random values and find the minimum and maximum values (★☆☆) \n",
        "(**hint**: min, max)"
      ]
    },
    {
      "cell_type": "code",
      "execution_count": null,
      "metadata": {
        "id": "N-vvsAl0TXwB",
        "colab": {
          "base_uri": "https://localhost:8080/"
        },
        "outputId": "52e81e03-0cfb-4264-98b1-c0828c1aabf9"
      },
      "outputs": [
        {
          "output_type": "execute_result",
          "data": {
            "text/plain": [
              "(0.012583209285624841, 0.9948524875786361)"
            ]
          },
          "metadata": {},
          "execution_count": 55
        }
      ],
      "source": [
        "r=np.random.random((10,10))\n",
        "r.min(),r.max()"
      ]
    },
    {
      "cell_type": "markdown",
      "metadata": {
        "id": "hvhrL-QnTXwB"
      },
      "source": [
        "#### 14. Create a random vector of size 30 and find the mean value (★☆☆) \n",
        "(**hint**: mean)"
      ]
    },
    {
      "cell_type": "code",
      "execution_count": null,
      "metadata": {
        "id": "9T_lbSB_TXwB",
        "colab": {
          "base_uri": "https://localhost:8080/"
        },
        "outputId": "19c2ea25-af66-4159-8933-131d94b10cd4"
      },
      "outputs": [
        {
          "output_type": "stream",
          "name": "stdout",
          "text": [
            "0.5281345075879985\n"
          ]
        }
      ],
      "source": [
        "u=np.random.random(30)\n",
        "m=u.mean()\n",
        "print(m)"
      ]
    },
    {
      "cell_type": "markdown",
      "metadata": {
        "id": "Bn83Dp92TXwB"
      },
      "source": [
        "#### 15. Create a 2d array with 1 on the border and 0 inside (★☆☆) \n",
        "(**hint**: array\\[1:-1, 1:-1\\])"
      ]
    },
    {
      "cell_type": "code",
      "execution_count": null,
      "metadata": {
        "id": "uZ8Y7iGlTXwD",
        "colab": {
          "base_uri": "https://localhost:8080/"
        },
        "outputId": "882f20df-fab5-4ca7-ba91-f3b5994c60f1"
      },
      "outputs": [
        {
          "output_type": "execute_result",
          "data": {
            "text/plain": [
              "array([[1., 1., 1., 1., 1., 1., 1., 1., 1., 1.],\n",
              "       [1., 0., 0., 0., 0., 0., 0., 0., 0., 1.],\n",
              "       [1., 0., 0., 0., 0., 0., 0., 0., 0., 1.],\n",
              "       [1., 0., 0., 0., 0., 0., 0., 0., 0., 1.],\n",
              "       [1., 0., 0., 0., 0., 0., 0., 0., 0., 1.],\n",
              "       [1., 0., 0., 0., 0., 0., 0., 0., 0., 1.],\n",
              "       [1., 0., 0., 0., 0., 0., 0., 0., 0., 1.],\n",
              "       [1., 0., 0., 0., 0., 0., 0., 0., 0., 1.],\n",
              "       [1., 0., 0., 0., 0., 0., 0., 0., 0., 1.],\n",
              "       [1., 1., 1., 1., 1., 1., 1., 1., 1., 1.]])"
            ]
          },
          "metadata": {},
          "execution_count": 4
        }
      ],
      "source": [
        "v=np.ones((10,10))\n",
        "v[1:-1,1:-1]=0\n",
        "v"
      ]
    },
    {
      "cell_type": "markdown",
      "metadata": {
        "id": "2OZDsvBQTXwD"
      },
      "source": [
        "#### 16. How to add a border (filled with 0's) around an existing array? (★☆☆) \n",
        "(**hint**: np.pad)"
      ]
    },
    {
      "cell_type": "code",
      "execution_count": null,
      "metadata": {
        "id": "_YmBETTVTXwE",
        "colab": {
          "base_uri": "https://localhost:8080/"
        },
        "outputId": "3929b930-28ab-4c85-c96c-d00219045fa7"
      },
      "outputs": [
        {
          "output_type": "stream",
          "name": "stdout",
          "text": [
            "[[0. 0. 0. 0. 0. 0. 0. 0. 0. 0. 0. 0.]\n",
            " [0. 1. 1. 1. 1. 1. 1. 1. 1. 1. 1. 0.]\n",
            " [0. 1. 1. 1. 1. 1. 1. 1. 1. 1. 1. 0.]\n",
            " [0. 1. 1. 1. 1. 1. 1. 1. 1. 1. 1. 0.]\n",
            " [0. 1. 1. 1. 1. 1. 1. 1. 1. 1. 1. 0.]\n",
            " [0. 1. 1. 1. 1. 1. 1. 1. 1. 1. 1. 0.]\n",
            " [0. 1. 1. 1. 1. 1. 1. 1. 1. 1. 1. 0.]\n",
            " [0. 1. 1. 1. 1. 1. 1. 1. 1. 1. 1. 0.]\n",
            " [0. 1. 1. 1. 1. 1. 1. 1. 1. 1. 1. 0.]\n",
            " [0. 1. 1. 1. 1. 1. 1. 1. 1. 1. 1. 0.]\n",
            " [0. 1. 1. 1. 1. 1. 1. 1. 1. 1. 1. 0.]\n",
            " [0. 0. 0. 0. 0. 0. 0. 0. 0. 0. 0. 0.]]\n"
          ]
        }
      ],
      "source": [
        "h=np.ones((10,10))\n",
        "h=np.pad(h,pad_width=1,mode=\"constant\",constant_values=0)\n",
        "print(h)"
      ]
    },
    {
      "cell_type": "markdown",
      "metadata": {
        "id": "BthB_ckhTXwE"
      },
      "source": [
        "#### 17. What is the result of the following expression? (★☆☆) \n",
        "(**hint**: NaN = not a number, inf = infinity)"
      ]
    },
    {
      "cell_type": "markdown",
      "metadata": {
        "id": "PZHKGWAaTXwE"
      },
      "source": [
        "```python\n",
        "0 * np.nan\n",
        "np.nan == np.nan\n",
        "np.inf > np.nan\n",
        "np.nan - np.nan\n",
        "0.3 == 3 * 0.1\n",
        "```"
      ]
    },
    {
      "cell_type": "code",
      "execution_count": null,
      "metadata": {
        "id": "dJ4O_bLnTXwF",
        "colab": {
          "base_uri": "https://localhost:8080/"
        },
        "outputId": "79f9ad01-7e06-4ed1-d549-d4aabdf6f230"
      },
      "outputs": [
        {
          "output_type": "stream",
          "name": "stdout",
          "text": [
            "nan\n",
            "False\n",
            "nan\n",
            "False\n"
          ]
        }
      ],
      "source": [
        "print(0* np.nan)\n",
        "print(np.nan == np.nan)\n",
        "print(np.nan - np.nan)\n",
        "print(0.3 == 3*0.1)"
      ]
    },
    {
      "cell_type": "markdown",
      "metadata": {
        "id": "ltNO6g5tTXwF"
      },
      "source": [
        "#### 18. Create a 5x5 matrix with values 1,2,3,4 just below the diagonal (★☆☆) \n",
        "(**hint**: np.diag)"
      ]
    },
    {
      "cell_type": "code",
      "execution_count": null,
      "metadata": {
        "id": "i2YcNI6QTXwG",
        "colab": {
          "base_uri": "https://localhost:8080/"
        },
        "outputId": "1e109c0a-fa1e-4b92-c01e-49e8499c1bb0"
      },
      "outputs": [
        {
          "output_type": "stream",
          "name": "stdout",
          "text": [
            "[[0 0 0 0 0]\n",
            " [1 0 0 0 0]\n",
            " [0 2 0 0 0]\n",
            " [0 0 3 0 0]\n",
            " [0 0 0 4 0]]\n"
          ]
        }
      ],
      "source": [
        "g=np.diag([1,2,3,4],k=-1)\n",
        "print(g)"
      ]
    },
    {
      "cell_type": "markdown",
      "metadata": {
        "id": "bBigrmEJTXwG"
      },
      "source": [
        "#### 19. Create a 8x8 matrix and fill it with a checkerboard pattern (★☆☆) \n",
        "(**hint**: array\\[::2\\])"
      ]
    },
    {
      "cell_type": "code",
      "execution_count": null,
      "metadata": {
        "id": "jmKoA5d8TXwG",
        "colab": {
          "base_uri": "https://localhost:8080/"
        },
        "outputId": "4aea8890-e0f5-4bc0-d903-056927e6a085"
      },
      "outputs": [
        {
          "output_type": "stream",
          "name": "stdout",
          "text": [
            "[[0 1 0 1 0 1 0 1]\n",
            " [1 0 1 0 1 0 1 0]\n",
            " [0 1 0 1 0 1 0 1]\n",
            " [1 0 1 0 1 0 1 0]\n",
            " [0 1 0 1 0 1 0 1]\n",
            " [1 0 1 0 1 0 1 0]\n",
            " [0 1 0 1 0 1 0 1]\n",
            " [1 0 1 0 1 0 1 0]]\n"
          ]
        }
      ],
      "source": [
        "b=np.zeros((8,8),dtype=int)\n",
        "b[1::2,::2]=1\n",
        "b[::2,1::2]=1\n",
        "print(b)"
      ]
    },
    {
      "cell_type": "markdown",
      "metadata": {
        "id": "G1xXmCTdTXwG"
      },
      "source": [
        "#### 20. Consider a (6,7,8) shape array, what is the index (x,y,z) of the 100th element? \n",
        "(**hint**: np.unravel_index)"
      ]
    },
    {
      "cell_type": "code",
      "execution_count": null,
      "metadata": {
        "id": "y-VBs7EATXwH",
        "colab": {
          "base_uri": "https://localhost:8080/"
        },
        "outputId": "dcbed26e-2a89-4001-cc64-85e86a036b54"
      },
      "outputs": [
        {
          "output_type": "stream",
          "name": "stdout",
          "text": [
            "(1, 5, 4)\n"
          ]
        }
      ],
      "source": [
        "print(np.unravel_index(100,(6,7,8)))"
      ]
    },
    {
      "cell_type": "markdown",
      "metadata": {
        "id": "bzhLhIgfTXwH"
      },
      "source": [
        "#### 21. Create a checkerboard 8x8 matrix using the tile function (★☆☆) \n",
        "(**hint**: np.tile)"
      ]
    },
    {
      "cell_type": "code",
      "execution_count": null,
      "metadata": {
        "id": "wWrUCCFjTXwH",
        "colab": {
          "base_uri": "https://localhost:8080/"
        },
        "outputId": "e354a330-1873-4a6c-eb2c-792a0b83cd18"
      },
      "outputs": [
        {
          "output_type": "execute_result",
          "data": {
            "text/plain": [
              "array([[0, 1, 0, 1, 0, 1, 0, 1, 0, 1, 0, 1, 0, 1, 0, 1],\n",
              "       [1, 0, 1, 0, 1, 0, 1, 0, 1, 0, 1, 0, 1, 0, 1, 0],\n",
              "       [0, 1, 0, 1, 0, 1, 0, 1, 0, 1, 0, 1, 0, 1, 0, 1],\n",
              "       [1, 0, 1, 0, 1, 0, 1, 0, 1, 0, 1, 0, 1, 0, 1, 0],\n",
              "       [0, 1, 0, 1, 0, 1, 0, 1, 0, 1, 0, 1, 0, 1, 0, 1],\n",
              "       [1, 0, 1, 0, 1, 0, 1, 0, 1, 0, 1, 0, 1, 0, 1, 0],\n",
              "       [0, 1, 0, 1, 0, 1, 0, 1, 0, 1, 0, 1, 0, 1, 0, 1],\n",
              "       [1, 0, 1, 0, 1, 0, 1, 0, 1, 0, 1, 0, 1, 0, 1, 0],\n",
              "       [0, 1, 0, 1, 0, 1, 0, 1, 0, 1, 0, 1, 0, 1, 0, 1],\n",
              "       [1, 0, 1, 0, 1, 0, 1, 0, 1, 0, 1, 0, 1, 0, 1, 0],\n",
              "       [0, 1, 0, 1, 0, 1, 0, 1, 0, 1, 0, 1, 0, 1, 0, 1],\n",
              "       [1, 0, 1, 0, 1, 0, 1, 0, 1, 0, 1, 0, 1, 0, 1, 0],\n",
              "       [0, 1, 0, 1, 0, 1, 0, 1, 0, 1, 0, 1, 0, 1, 0, 1],\n",
              "       [1, 0, 1, 0, 1, 0, 1, 0, 1, 0, 1, 0, 1, 0, 1, 0],\n",
              "       [0, 1, 0, 1, 0, 1, 0, 1, 0, 1, 0, 1, 0, 1, 0, 1],\n",
              "       [1, 0, 1, 0, 1, 0, 1, 0, 1, 0, 1, 0, 1, 0, 1, 0]])"
            ]
          },
          "metadata": {},
          "execution_count": 15
        }
      ],
      "source": [
        "f=np.tile(np.array([[0,1],[1,0]]),[8,8])\n",
        "f"
      ]
    },
    {
      "cell_type": "markdown",
      "metadata": {
        "id": "KL3C1xNHTXwH"
      },
      "source": [
        "#### 22. Normalize a 5x5 random matrix (★☆☆) \n",
        "(**hint**: (x - min) / (max - min))"
      ]
    },
    {
      "cell_type": "code",
      "execution_count": null,
      "metadata": {
        "id": "rRkVB3AETXwI",
        "colab": {
          "base_uri": "https://localhost:8080/"
        },
        "outputId": "66dbb577-a3f0-4bbc-d4f1-4296b8e9d96a"
      },
      "outputs": [
        {
          "output_type": "stream",
          "name": "stdout",
          "text": [
            "[[0.23691567 0.28677772 0.68217675 0.35562465 0.79231162]\n",
            " [0.80289309 0.78251553 0.98731919 0.         0.83244164]\n",
            " [0.83828264 0.02033051 0.60576682 0.98544481 0.09027703]\n",
            " [0.00820714 0.21564403 0.05952754 1.         0.58229064]\n",
            " [0.61442938 0.42414553 0.37010279 0.27300693 0.72149633]]\n"
          ]
        }
      ],
      "source": [
        "o=np.random.random((5,5))\n",
        "omax,omin = o.max(), o.min()\n",
        "o=(o-omin)/(omax-omin)\n",
        "print(o)"
      ]
    },
    {
      "cell_type": "markdown",
      "metadata": {
        "id": "b6cO5KupTXwI"
      },
      "source": [
        "#### 23. Create a custom dtype that describes a color as four unsigned bytes (RGBA) (★☆☆) \n",
        "(**hint**: np.dtype)"
      ]
    },
    {
      "cell_type": "code",
      "execution_count": null,
      "metadata": {
        "collapsed": true,
        "id": "p5R9fw3OTXwI",
        "colab": {
          "base_uri": "https://localhost:8080/"
        },
        "outputId": "5d982a51-4d03-4a5f-b151-8cca6249ca2b"
      },
      "outputs": [
        {
          "output_type": "stream",
          "name": "stderr",
          "text": [
            "/usr/local/lib/python3.7/dist-packages/ipykernel_launcher.py:1: FutureWarning: Passing (type, 1) or '1type' as a synonym of type is deprecated; in a future version of numpy, it will be understood as (type, (1,)) / '(1,)type'.\n",
            "  \"\"\"Entry point for launching an IPython kernel.\n"
          ]
        }
      ],
      "source": [
        "color = np.dtype([(\"r\", np.ubyte,1),(\"g\", np.ubyte,1),(\"b\", np.dtype, 1),(\"a\", np.dtype)])"
      ]
    },
    {
      "cell_type": "markdown",
      "metadata": {
        "id": "2-FvAZLSTXwJ"
      },
      "source": [
        "#### 24. Multiply a 5x3 matrix by a 3x2 matrix (real matrix product) (★☆☆) \n",
        "(**hint**: np.dot | @)"
      ]
    },
    {
      "cell_type": "code",
      "execution_count": null,
      "metadata": {
        "id": "LJlODvUETXwJ",
        "colab": {
          "base_uri": "https://localhost:8080/"
        },
        "outputId": "2585a906-627d-42f4-c437-e6bcc58ba00b"
      },
      "outputs": [
        {
          "output_type": "stream",
          "name": "stdout",
          "text": [
            "[[3. 3.]\n",
            " [3. 3.]\n",
            " [3. 3.]\n",
            " [3. 3.]\n",
            " [3. 3.]]\n"
          ]
        }
      ],
      "source": [
        "d=np.dot(np.ones((5,3)),np.ones((3,2)))\n",
        "print(d)"
      ]
    },
    {
      "cell_type": "markdown",
      "metadata": {
        "id": "w8-m242RTXwJ"
      },
      "source": [
        "#### 25. Given a 1D array, negate all elements which are between 3 and 8, in place. (★☆☆) \n",
        "(**hint**: >, <=)"
      ]
    },
    {
      "cell_type": "code",
      "execution_count": null,
      "metadata": {
        "id": "RMKwqM3_TXwJ",
        "colab": {
          "base_uri": "https://localhost:8080/"
        },
        "outputId": "72c194bb-fa00-4e5a-9515-cf6e1d6922fc"
      },
      "outputs": [
        {
          "output_type": "stream",
          "name": "stdout",
          "text": [
            "[ 0  1  2  3 -4 -5 -6 -7 -8  9 10]\n"
          ]
        }
      ],
      "source": [
        "t=np.arange(11)\n",
        "t[(3<t)&(t<=8)]*=-1\n",
        "print(t)"
      ]
    },
    {
      "cell_type": "markdown",
      "metadata": {
        "id": "ZrkuFxKZTXwJ"
      },
      "source": [
        "#### 26. What is the output of the following script? (★☆☆) \n",
        "(**hint**: np.sum)"
      ]
    },
    {
      "cell_type": "markdown",
      "metadata": {
        "id": "AB7DpXlOTXwK"
      },
      "source": [
        "```python\n",
        "# Author: Jake VanderPlas\n",
        "\n",
        "print(sum(range(5),-1))\n",
        "from numpy import *\n",
        "print(sum(range(5),-1))\n",
        "```"
      ]
    },
    {
      "cell_type": "code",
      "execution_count": null,
      "metadata": {
        "id": "LulcccHKTXwK",
        "colab": {
          "base_uri": "https://localhost:8080/"
        },
        "outputId": "c10051cb-45ab-449e-a9cb-6776ca908555"
      },
      "outputs": [
        {
          "output_type": "stream",
          "name": "stdout",
          "text": [
            "10\n",
            "10\n"
          ]
        }
      ],
      "source": [
        "print(np.sum(range(5),-1))\n",
        "\n",
        "print(np.sum(range(5),-1))"
      ]
    },
    {
      "cell_type": "markdown",
      "metadata": {
        "id": "ctiglRZhTXwK"
      },
      "source": [
        "#### 27. Consider an integer vector Z, which of these expressions are legal? (★☆☆)"
      ]
    },
    {
      "cell_type": "markdown",
      "metadata": {
        "id": "BuUPqpgrTXwK"
      },
      "source": [
        "```python\n",
        "Z**Z\n",
        "2 << Z >> 2\n",
        "Z <- Z\n",
        "1j*Z\n",
        "Z/1/1\n",
        "Z<Z>Z\n",
        "```"
      ]
    },
    {
      "cell_type": "code",
      "execution_count": null,
      "metadata": {
        "id": "7XLuqDxQTXwK"
      },
      "outputs": [],
      "source": [
        "Z**Z\n",
        "2 << Z >> 2\n",
        "Z <- Z\n",
        "1j*Z\n",
        "Z/1/1\n",
        "Z<Z>Z\n"
      ]
    },
    {
      "cell_type": "markdown",
      "metadata": {
        "id": "jiHwLAY-TXwL"
      },
      "source": [
        "#### 28. What are the result of the following expressions?"
      ]
    },
    {
      "cell_type": "markdown",
      "metadata": {
        "id": "3VbjwifcTXwL"
      },
      "source": [
        "```python\n",
        "np.array(0) / np.array(0)\n",
        "np.array(0) // np.array(0)\n",
        "np.array([np.nan]).astype(int).astype(float)\n",
        "```"
      ]
    },
    {
      "cell_type": "code",
      "execution_count": null,
      "metadata": {
        "id": "MI3bvp5ITXwL",
        "colab": {
          "base_uri": "https://localhost:8080/"
        },
        "outputId": "8d483bf5-2c71-492b-be24-e027dadc0f4f"
      },
      "outputs": [
        {
          "output_type": "stream",
          "name": "stdout",
          "text": [
            "nan\n",
            "0\n",
            "[-9.22337204e+18]\n"
          ]
        },
        {
          "output_type": "stream",
          "name": "stderr",
          "text": [
            "/usr/local/lib/python3.7/dist-packages/ipykernel_launcher.py:1: RuntimeWarning: invalid value encountered in true_divide\n",
            "  \"\"\"Entry point for launching an IPython kernel.\n",
            "/usr/local/lib/python3.7/dist-packages/ipykernel_launcher.py:2: RuntimeWarning: divide by zero encountered in floor_divide\n",
            "  \n"
          ]
        }
      ],
      "source": [
        "print(np.array(0) / np.array(0))\n",
        "print(np.array(0) // np.array(0))\n",
        "print(np.array([np.nan]).astype(int).astype(float))"
      ]
    },
    {
      "cell_type": "markdown",
      "metadata": {
        "id": "9u_wGa30TXwL"
      },
      "source": [
        "#### 29. How to round away from zero a float array ? (★☆☆) \n",
        "(**hint**: np.uniform, np.copysign, np.ceil, np.abs)"
      ]
    },
    {
      "cell_type": "code",
      "execution_count": null,
      "metadata": {
        "id": "0gxsJE82TXwL",
        "colab": {
          "base_uri": "https://localhost:8080/"
        },
        "outputId": "463d39c9-b761-4264-b864-6eb64ff07442"
      },
      "outputs": [
        {
          "output_type": "stream",
          "name": "stdout",
          "text": [
            "[-5.  4. -6.  2. -6.  3. -1.  6. -3.  7.]\n"
          ]
        }
      ],
      "source": [
        "s=np.random.uniform(-10,+10,10)\n",
        "print(np.copysign(np.ceil(np.abs(s)), s))"
      ]
    },
    {
      "cell_type": "markdown",
      "metadata": {
        "id": "wfz1kIxPTXwL"
      },
      "source": [
        "#### 30. How to find common values between two arrays? (★☆☆) \n",
        "(**hint**: np.intersect1d)"
      ]
    },
    {
      "cell_type": "code",
      "execution_count": null,
      "metadata": {
        "id": "ZZqQVa2DTXwM",
        "colab": {
          "base_uri": "https://localhost:8080/"
        },
        "outputId": "0cc68a1b-829e-44c7-95f8-60837d8786d7"
      },
      "outputs": [
        {
          "output_type": "stream",
          "name": "stdout",
          "text": [
            "[0 1 2 5 7]\n"
          ]
        }
      ],
      "source": [
        "w1=np.random.randint(0,10,10)\n",
        "w2=np.random.randint(0,10,10)\n",
        "print(np.intersect1d(w1,w2))"
      ]
    },
    {
      "cell_type": "markdown",
      "metadata": {
        "id": "h53_4MrFTXwN"
      },
      "source": [
        "#### 31. How to ignore all numpy warnings (not recommended)? (★☆☆) \n",
        "(**hint**: np.seterr, np.errstate)"
      ]
    },
    {
      "cell_type": "code",
      "execution_count": null,
      "metadata": {
        "id": "bvxyV8FQTXwN",
        "colab": {
          "base_uri": "https://localhost:8080/"
        },
        "outputId": "735c0572-6787-4663-92ed-311bf183a303"
      },
      "outputs": [
        {
          "output_type": "stream",
          "name": "stdout",
          "text": [
            "[inf]\n"
          ]
        }
      ],
      "source": [
        "defaults=np.seterr(all=\"ignore\")\n",
        "z=np.ones(1)/0\n",
        "_=np.seterr(**defaults)\n",
        "print(z)"
      ]
    },
    {
      "cell_type": "markdown",
      "metadata": {
        "id": "eiW-EJlTTXwN"
      },
      "source": [
        "#### 32. Is the following expressions true? (★☆☆) \n",
        "(**hint**: imaginary number)"
      ]
    },
    {
      "cell_type": "markdown",
      "metadata": {
        "id": "3VaoUZTJTXwN"
      },
      "source": [
        "```python\n",
        "np.sqrt(-1) == np.emath.sqrt(-1)\n",
        "```"
      ]
    },
    {
      "cell_type": "code",
      "execution_count": null,
      "metadata": {
        "id": "j-MWPWkBTXwO",
        "colab": {
          "base_uri": "https://localhost:8080/"
        },
        "outputId": "0662bb7a-0cee-4319-fcde-de3e995df496"
      },
      "outputs": [
        {
          "output_type": "execute_result",
          "data": {
            "text/plain": [
              "False"
            ]
          },
          "metadata": {},
          "execution_count": 40
        }
      ],
      "source": [
        "np.sqrt(-1) == np.emath.sqrt(-1)"
      ]
    },
    {
      "cell_type": "markdown",
      "metadata": {
        "id": "L6gv6cGcTXwO"
      },
      "source": [
        "#### 33. How to get the dates of yesterday, today and tomorrow? (★☆☆) \n",
        "(**hint**: np.datetime64, np.timedelta64)"
      ]
    },
    {
      "cell_type": "code",
      "execution_count": null,
      "metadata": {
        "collapsed": true,
        "id": "zYD15ICgTXwO",
        "colab": {
          "base_uri": "https://localhost:8080/"
        },
        "outputId": "4f109a81-5ff5-4ed3-b4e9-9178d6e0fe8c"
      },
      "outputs": [
        {
          "output_type": "stream",
          "name": "stdout",
          "text": [
            "2022-11-02 2022-11-03 2022-11-04\n"
          ]
        }
      ],
      "source": [
        "yesterday=np.datetime64('today','D')-np.timedelta64(1, 'D')\n",
        "today=np.datetime64('today','D')\n",
        "tomorrow=np.datetime64('today','D')+ np.timedelta64(1, 'D')\n",
        "print(yesterday,today,tomorrow)\n"
      ]
    },
    {
      "cell_type": "markdown",
      "metadata": {
        "id": "Ve9OdEkUTXwO"
      },
      "source": [
        "#### 34. How to get all the dates corresponding to the month of July 2016? (★★☆) \n",
        "(**hint**: np.arange(dtype=datetime64\\['D'\\]))"
      ]
    },
    {
      "cell_type": "code",
      "execution_count": null,
      "metadata": {
        "id": "Eox3pwt0TXwP",
        "colab": {
          "base_uri": "https://localhost:8080/"
        },
        "outputId": "1d90b4a5-ca57-4d94-bfc6-ea7fbed3f651"
      },
      "outputs": [
        {
          "output_type": "stream",
          "name": "stdout",
          "text": [
            "['2016-07-01' '2016-07-02' '2016-07-03' '2016-07-04' '2016-07-05'\n",
            " '2016-07-06' '2016-07-07' '2016-07-08' '2016-07-09' '2016-07-10'\n",
            " '2016-07-11' '2016-07-12' '2016-07-13' '2016-07-14' '2016-07-15'\n",
            " '2016-07-16' '2016-07-17' '2016-07-18' '2016-07-19' '2016-07-20'\n",
            " '2016-07-21' '2016-07-22' '2016-07-23' '2016-07-24' '2016-07-25'\n",
            " '2016-07-26' '2016-07-27' '2016-07-28' '2016-07-29' '2016-07-30'\n",
            " '2016-07-31']\n"
          ]
        }
      ],
      "source": [
        "r=np.arange('2016-07','2016-08',dtype='datetime64[D]')\n",
        "print(r)"
      ]
    },
    {
      "cell_type": "markdown",
      "metadata": {
        "id": "J9YRekrlTXwP"
      },
      "source": [
        "#### 35. How to compute ((A+B)\\*(-A/2)) in place (without copy)? (★★☆) \n",
        "(**hint**: np.add(out=), np.negative(out=), np.multiply(out=), np.divide(out=))"
      ]
    },
    {
      "cell_type": "code",
      "execution_count": null,
      "metadata": {
        "id": "g9GB3thgTXwP",
        "colab": {
          "base_uri": "https://localhost:8080/"
        },
        "outputId": "1beb924e-a0bd-49bc-ea31-535d8588e8f0"
      },
      "outputs": [
        {
          "output_type": "execute_result",
          "data": {
            "text/plain": [
              "array([-3., -3., -3.])"
            ]
          },
          "metadata": {},
          "execution_count": 47
        }
      ],
      "source": [
        "A=np.ones(3)*1\n",
        "B=np.ones(3)*2\n",
        "C=np.ones(3)*3\n",
        "np.add(A,B,out=A)\n",
        "np.divide(A,2,out=A)\n",
        "np.negative(A,out=A)\n",
        "np.multiply(A,B,out=A)"
      ]
    },
    {
      "cell_type": "markdown",
      "metadata": {
        "id": "kAvRPa9BTXwP"
      },
      "source": [
        "#### 36. Extract the integer part of a random array using 5 different methods (★★☆) \n",
        "(**hint**: %, np.floor, np.ceil, astype, np.trunc)"
      ]
    },
    {
      "cell_type": "code",
      "execution_count": null,
      "metadata": {
        "id": "t0xdv8lpTXwQ",
        "colab": {
          "base_uri": "https://localhost:8080/"
        },
        "outputId": "19b91c44-9a2b-43e8-8ead-df490bba5ef4"
      },
      "outputs": [
        {
          "output_type": "stream",
          "name": "stdout",
          "text": [
            "[3. 1. 5. 6. 9. 1. 6. 4. 1. 7.]\n",
            "[3. 1. 5. 6. 9. 1. 6. 4. 1. 7.]\n",
            "[3 1 5 6 9 1 6 4 1 7]\n",
            "[3. 1. 5. 6. 9. 1. 6. 4. 1. 7.]\n"
          ]
        }
      ],
      "source": [
        "z=np.random.uniform(0,10,10)\n",
        "print(np.floor(z))\n",
        "print(np.ceil(z)-1)\n",
        "print(z.astype(int))\n",
        "print(np.trunc(z))\n"
      ]
    },
    {
      "cell_type": "markdown",
      "metadata": {
        "id": "IZXe6vdVTXwQ"
      },
      "source": [
        "#### 37. Create a 5x5 matrix with row values ranging from 0 to 4 (★★☆) \n",
        "(**hint**: np.arange)"
      ]
    },
    {
      "cell_type": "code",
      "execution_count": null,
      "metadata": {
        "id": "fOcqZ21TTXwQ",
        "colab": {
          "base_uri": "https://localhost:8080/"
        },
        "outputId": "d7800ce6-574c-4e9b-c950-a2888816f072"
      },
      "outputs": [
        {
          "output_type": "stream",
          "name": "stdout",
          "text": [
            "[[0. 1. 2. 3. 4.]\n",
            " [0. 1. 2. 3. 4.]\n",
            " [0. 1. 2. 3. 4.]\n",
            " [0. 1. 2. 3. 4.]\n",
            " [0. 1. 2. 3. 4.]]\n"
          ]
        }
      ],
      "source": [
        "z = np.zeros((5,5))\n",
        "z+= np.arange(5)\n",
        "print(z)"
      ]
    },
    {
      "cell_type": "markdown",
      "metadata": {
        "id": "scrbhURoTXwR"
      },
      "source": [
        "#### 38. Consider a generator function that generates 10 integers and use it to build an array (★☆☆) \n",
        "(**hint**: np.fromiter)"
      ]
    },
    {
      "cell_type": "code",
      "execution_count": null,
      "metadata": {
        "id": "uF2Zp98NTXwR",
        "colab": {
          "base_uri": "https://localhost:8080/"
        },
        "outputId": "d1a65138-0fba-44a1-fbbb-76e59e389f11"
      },
      "outputs": [
        {
          "output_type": "stream",
          "name": "stdout",
          "text": [
            "[0. 1. 2. 3. 4. 5. 6. 7. 8. 9.]\n"
          ]
        }
      ],
      "source": [
        "def generate():\n",
        "  for x in range(10):\n",
        "    yield x\n",
        "z=np.fromiter(generate(),dtype=float,count=-1)\n",
        "print(z)"
      ]
    },
    {
      "cell_type": "markdown",
      "metadata": {
        "id": "0Jp81EjnTXwR"
      },
      "source": [
        "#### 39. Create a vector of size 10 with values ranging from 0 to 1, both excluded (★★☆) \n",
        "(**hint**: np.linspace)"
      ]
    },
    {
      "cell_type": "code",
      "execution_count": null,
      "metadata": {
        "id": "4NZ2FxnqTXwS",
        "colab": {
          "base_uri": "https://localhost:8080/"
        },
        "outputId": "3ab7878f-3344-4e03-ac07-6428fb2a3d63"
      },
      "outputs": [
        {
          "output_type": "stream",
          "name": "stdout",
          "text": [
            "[0.09090909 0.18181818 0.27272727 0.36363636 0.45454545 0.54545455\n",
            " 0.63636364 0.72727273 0.81818182 0.90909091]\n"
          ]
        }
      ],
      "source": [
        "z=np.linspace(0,1,11,endpoint=False)[1:]\n",
        "print(z)"
      ]
    },
    {
      "cell_type": "markdown",
      "metadata": {
        "id": "ZDXUpRQMTXwS"
      },
      "source": [
        "#### 40. Create a random vector of size 10 and sort it (★★☆) \n",
        "(**hint**: sort)"
      ]
    },
    {
      "cell_type": "code",
      "execution_count": null,
      "metadata": {
        "id": "jaBDBIoZTXwS",
        "colab": {
          "base_uri": "https://localhost:8080/"
        },
        "outputId": "2fb46e78-50ca-44b3-8862-eda3e64cac30"
      },
      "outputs": [
        {
          "output_type": "stream",
          "name": "stdout",
          "text": [
            "[0.84694462 0.60960346 0.27787714 0.36958111 0.16251905 0.54544964\n",
            " 0.44994237 0.81120966 0.41683645 0.46490563]\n"
          ]
        }
      ],
      "source": [
        "c=np.random.random(10)\n",
        "c.sort\n",
        "print(c)"
      ]
    },
    {
      "cell_type": "markdown",
      "metadata": {
        "id": "UkPbvqPWTXwS"
      },
      "source": [
        "#### 41. How to sum a small array faster than np.sum? (★★☆) \n",
        "(**hint**: np.add.reduce)"
      ]
    },
    {
      "cell_type": "code",
      "execution_count": null,
      "metadata": {
        "id": "UJ5aSo1KTXwS",
        "colab": {
          "base_uri": "https://localhost:8080/"
        },
        "outputId": "59087730-5074-43dc-ea3c-af26c3b7b5f4"
      },
      "outputs": [
        {
          "output_type": "execute_result",
          "data": {
            "text/plain": [
              "45"
            ]
          },
          "metadata": {},
          "execution_count": 60
        }
      ],
      "source": [
        "x=np.arange(10)\n",
        "np.add.reduce(x)"
      ]
    },
    {
      "cell_type": "markdown",
      "metadata": {
        "id": "PN2_29GoTXwS"
      },
      "source": [
        "#### 42. Consider two random array A and B, check if they are equal (★★☆) \n",
        "(**hint**: np.allclose, np.array\\_equal)"
      ]
    },
    {
      "cell_type": "code",
      "execution_count": null,
      "metadata": {
        "id": "AIS8ShMTTXwT",
        "colab": {
          "base_uri": "https://localhost:8080/"
        },
        "outputId": "0f455009-89ee-4d51-d008-da41045f542a"
      },
      "outputs": [
        {
          "output_type": "stream",
          "name": "stdout",
          "text": [
            "False\n",
            "False\n"
          ]
        }
      ],
      "source": [
        "A= np.random.randint(0,2,5)\n",
        "B= np.random.randint(0,2,5)\n",
        "equal = np.allclose(A,B)\n",
        "print(equal)\n",
        "equal = np.array_equal(A,B)\n",
        "print(equal)"
      ]
    },
    {
      "cell_type": "markdown",
      "metadata": {
        "id": "eim1JC8BTXwT"
      },
      "source": [
        "#### 43. Make an array immutable (read-only) (★★☆) \n",
        "(**hint**: flags.writeable)"
      ]
    },
    {
      "cell_type": "code",
      "execution_count": null,
      "metadata": {
        "id": "cw8_HlYlTXwT",
        "colab": {
          "base_uri": "https://localhost:8080/"
        },
        "outputId": "6e35a50d-f191-4da2-ae7c-45ddbf7ae747"
      },
      "outputs": [
        {
          "output_type": "execute_result",
          "data": {
            "text/plain": [
              "0.0"
            ]
          },
          "metadata": {},
          "execution_count": 7
        }
      ],
      "source": [
        "z=np.zeros(10)\n",
        "z.flags.writeable=False\n",
        "z[0]"
      ]
    },
    {
      "cell_type": "markdown",
      "metadata": {
        "id": "6p2MA85MTXwT"
      },
      "source": [
        "#### 44. Consider a random 10x2 matrix representing cartesian coordinates, convert them to polar coordinates (★★☆) \n",
        "(**hint**: np.sqrt, np.arctan2)"
      ]
    },
    {
      "cell_type": "code",
      "execution_count": null,
      "metadata": {
        "id": "pHn78eCvTXwT",
        "colab": {
          "base_uri": "https://localhost:8080/"
        },
        "outputId": "e51fc4f5-6468-46b1-d58b-2452e0456ff7"
      },
      "outputs": [
        {
          "output_type": "stream",
          "name": "stdout",
          "text": [
            "[0.86363365 0.72409601 0.9479932  1.05069242 1.16808756 0.6562862\n",
            " 0.92588228 0.78912422 0.28064351 0.54888522]\n",
            "[1.50420374 0.90255427 0.66309542 0.85080774 0.90552441 0.84016018\n",
            " 1.13669992 1.04037177 0.07063938 1.30022086]\n"
          ]
        }
      ],
      "source": [
        "z=np.random.random((10,2))\n",
        "x,y=z[:,0],z[:,1]\n",
        "r=np.sqrt(x**2+y**2)\n",
        "t=np.arctan2(y,x)\n",
        "print(r)\n",
        "print(t)"
      ]
    },
    {
      "cell_type": "markdown",
      "metadata": {
        "id": "5W-R_VtgTXwU"
      },
      "source": [
        "#### 45. Create random vector of size 10 and replace the maximum value by 0 (★★☆) \n",
        "(**hint**: argmax)"
      ]
    },
    {
      "cell_type": "code",
      "execution_count": null,
      "metadata": {
        "id": "OaOHTCy2TXwU",
        "colab": {
          "base_uri": "https://localhost:8080/"
        },
        "outputId": "7a72acb7-42e1-4c91-9e63-fa575f10d573"
      },
      "outputs": [
        {
          "output_type": "stream",
          "name": "stdout",
          "text": [
            "[0.76866308 0.85900581 0.26741498 0.73625027 0.01248526 0.19592969\n",
            " 0.         0.05076701 0.29786487 0.40296369]\n"
          ]
        }
      ],
      "source": [
        "p=np.random.random(10)\n",
        "p[p.argmax()]=0\n",
        "print(p)"
      ]
    },
    {
      "cell_type": "markdown",
      "metadata": {
        "id": "mxDhMy1ZTXwU"
      },
      "source": [
        "#### 46. Create a structured array with `x` and `y` coordinates covering the \\[0,1\\]x\\[0,1\\] area (★★☆) \n",
        "(**hint**: np.meshgrid)"
      ]
    },
    {
      "cell_type": "code",
      "execution_count": null,
      "metadata": {
        "id": "f1UoYgQ-TXwV",
        "colab": {
          "base_uri": "https://localhost:8080/"
        },
        "outputId": "bbeb4767-8628-4636-e9da-5a9fb72eb90d"
      },
      "outputs": [
        {
          "output_type": "stream",
          "name": "stdout",
          "text": [
            "[[(0.  , 0.  ) (0.25, 0.  ) (0.5 , 0.  ) (0.75, 0.  ) (1.  , 0.  )]\n",
            " [(0.  , 0.25) (0.25, 0.25) (0.5 , 0.25) (0.75, 0.25) (1.  , 0.25)]\n",
            " [(0.  , 0.5 ) (0.25, 0.5 ) (0.5 , 0.5 ) (0.75, 0.5 ) (1.  , 0.5 )]\n",
            " [(0.  , 0.75) (0.25, 0.75) (0.5 , 0.75) (0.75, 0.75) (1.  , 0.75)]\n",
            " [(0.  , 1.  ) (0.25, 1.  ) (0.5 , 1.  ) (0.75, 1.  ) (1.  , 1.  )]]\n"
          ]
        }
      ],
      "source": [
        "z=np.zeros((5,5),[(\"x\",float),(\"y\",float)])\n",
        "z[\"x\"],z[\"y\"]=np.meshgrid(np.linspace(0,1,5),np.linspace(0,1,5))\n",
        "print(z)"
      ]
    },
    {
      "cell_type": "markdown",
      "metadata": {
        "id": "IBl8gf_RTXwV"
      },
      "source": [
        "####  47. Given two arrays, X and Y, construct the Cauchy matrix C (Cij =1/(xi - yj)) \n",
        "(**hint**: np.subtract.outer)"
      ]
    },
    {
      "cell_type": "code",
      "execution_count": null,
      "metadata": {
        "id": "f2AFB5btTXwW",
        "colab": {
          "base_uri": "https://localhost:8080/"
        },
        "outputId": "0e8a982d-a768-4d3d-81d5-dbb8f645503d"
      },
      "outputs": [
        {
          "output_type": "stream",
          "name": "stdout",
          "text": [
            "3638.163637117973\n"
          ]
        }
      ],
      "source": [
        "x=np.arange(8)\n",
        "y=x+0.5\n",
        "c=1.0/np.subtract.outer(x,y)\n",
        "print(np.linalg.det(c))"
      ]
    },
    {
      "cell_type": "markdown",
      "metadata": {
        "id": "IhNnVOPRTXwW"
      },
      "source": [
        "#### 48. Print the minimum and maximum representable value for each numpy scalar type (★★☆) \n",
        "(**hint**: np.iinfo, np.finfo, eps)"
      ]
    },
    {
      "cell_type": "code",
      "execution_count": null,
      "metadata": {
        "id": "JZRMxDzHTXwX",
        "colab": {
          "base_uri": "https://localhost:8080/"
        },
        "outputId": "bb4e785f-921f-4ad1-c526-c831c9a2c21b"
      },
      "outputs": [
        {
          "output_type": "stream",
          "name": "stdout",
          "text": [
            "-128\n",
            "127\n",
            "-2147483648\n",
            "2147483647\n",
            "-9223372036854775808\n",
            "9223372036854775807\n",
            "-3.4028235e+38\n",
            "3.4028235e+38\n",
            "1.1920929e-07\n",
            "-1.7976931348623157e+308\n",
            "1.7976931348623157e+308\n",
            "2.220446049250313e-16\n"
          ]
        }
      ],
      "source": [
        "for dtype in [np.int8, np.int32, np.int64]:\n",
        "   print(np.iinfo(dtype).min)\n",
        "   print(np.iinfo(dtype).max)\n",
        "for dtype in [np.float32, np.float64]:\n",
        "   print(np.finfo(dtype).min)\n",
        "   print(np.finfo(dtype).max)\n",
        "   print(np.finfo(dtype).eps)"
      ]
    },
    {
      "cell_type": "markdown",
      "metadata": {
        "id": "2NXr9SdETXwX"
      },
      "source": [
        "#### 49. How to print all the values of an array? (★★☆) \n",
        "(**hint**: np.set\\_printoptions)"
      ]
    },
    {
      "cell_type": "code",
      "execution_count": null,
      "metadata": {
        "id": "eX9ruzqOTXwX",
        "colab": {
          "base_uri": "https://localhost:8080/"
        },
        "outputId": "157923af-05e8-4399-9025-33236cbc87cb"
      },
      "outputs": [
        {
          "output_type": "stream",
          "name": "stdout",
          "text": [
            "[[0. 0. 0. 0. 0. 0. 0. 0. 0. 0. 0. 0. 0. 0. 0. 0.]\n",
            " [0. 0. 0. 0. 0. 0. 0. 0. 0. 0. 0. 0. 0. 0. 0. 0.]\n",
            " [0. 0. 0. 0. 0. 0. 0. 0. 0. 0. 0. 0. 0. 0. 0. 0.]\n",
            " [0. 0. 0. 0. 0. 0. 0. 0. 0. 0. 0. 0. 0. 0. 0. 0.]\n",
            " [0. 0. 0. 0. 0. 0. 0. 0. 0. 0. 0. 0. 0. 0. 0. 0.]\n",
            " [0. 0. 0. 0. 0. 0. 0. 0. 0. 0. 0. 0. 0. 0. 0. 0.]\n",
            " [0. 0. 0. 0. 0. 0. 0. 0. 0. 0. 0. 0. 0. 0. 0. 0.]\n",
            " [0. 0. 0. 0. 0. 0. 0. 0. 0. 0. 0. 0. 0. 0. 0. 0.]\n",
            " [0. 0. 0. 0. 0. 0. 0. 0. 0. 0. 0. 0. 0. 0. 0. 0.]\n",
            " [0. 0. 0. 0. 0. 0. 0. 0. 0. 0. 0. 0. 0. 0. 0. 0.]\n",
            " [0. 0. 0. 0. 0. 0. 0. 0. 0. 0. 0. 0. 0. 0. 0. 0.]\n",
            " [0. 0. 0. 0. 0. 0. 0. 0. 0. 0. 0. 0. 0. 0. 0. 0.]\n",
            " [0. 0. 0. 0. 0. 0. 0. 0. 0. 0. 0. 0. 0. 0. 0. 0.]\n",
            " [0. 0. 0. 0. 0. 0. 0. 0. 0. 0. 0. 0. 0. 0. 0. 0.]\n",
            " [0. 0. 0. 0. 0. 0. 0. 0. 0. 0. 0. 0. 0. 0. 0. 0.]\n",
            " [0. 0. 0. 0. 0. 0. 0. 0. 0. 0. 0. 0. 0. 0. 0. 0.]]\n"
          ]
        }
      ],
      "source": [
        "np.set_printoptions\n",
        "Z = np.zeros((16,16))\n",
        "print(Z)"
      ]
    },
    {
      "cell_type": "markdown",
      "metadata": {
        "id": "-wTPVqjCTXwX"
      },
      "source": [
        "#### 50. How to find the closest value (to a given scalar) in a vector? (★★☆) \n",
        "(**hint**: argmin)"
      ]
    },
    {
      "cell_type": "code",
      "execution_count": null,
      "metadata": {
        "id": "zTwi49OQTXwX",
        "colab": {
          "base_uri": "https://localhost:8080/"
        },
        "outputId": "141fba8d-0611-4d18-f391-8bf4053ef83a"
      },
      "outputs": [
        {
          "output_type": "stream",
          "name": "stdout",
          "text": [
            "15\n"
          ]
        }
      ],
      "source": [
        "Z = np.arange(100)\n",
        "v = np.random.uniform(0,100)\n",
        "index = (np.abs(Z-v)).argmin()\n",
        "print(Z[index])"
      ]
    },
    {
      "cell_type": "markdown",
      "metadata": {
        "id": "NRQUONwKTXwX"
      },
      "source": [
        "#### 51. Create a structured array representing a position (x,y) and a color (r,g,b) (★★☆) \n",
        "(**hint**: dtype)"
      ]
    },
    {
      "cell_type": "code",
      "execution_count": null,
      "metadata": {
        "id": "jzOz0XojTXwX",
        "colab": {
          "base_uri": "https://localhost:8080/"
        },
        "outputId": "b1cd1403-13fe-480c-ee0d-3f00b504c87b"
      },
      "outputs": [
        {
          "output_type": "stream",
          "name": "stdout",
          "text": [
            "[((0., 0.), (0., 0., 0.)) ((0., 0.), (0., 0., 0.))\n",
            " ((0., 0.), (0., 0., 0.)) ((0., 0.), (0., 0., 0.))\n",
            " ((0., 0.), (0., 0., 0.)) ((0., 0.), (0., 0., 0.))\n",
            " ((0., 0.), (0., 0., 0.)) ((0., 0.), (0., 0., 0.))\n",
            " ((0., 0.), (0., 0., 0.)) ((0., 0.), (0., 0., 0.))]\n"
          ]
        },
        {
          "output_type": "stream",
          "name": "stderr",
          "text": [
            "/usr/local/lib/python3.7/dist-packages/ipykernel_launcher.py:1: FutureWarning: Passing (type, 1) or '1type' as a synonym of type is deprecated; in a future version of numpy, it will be understood as (type, (1,)) / '(1,)type'.\n",
            "  \"\"\"Entry point for launching an IPython kernel.\n"
          ]
        }
      ],
      "source": [
        "Z = np.zeros(10, [ ('position', [ ('x', float, 1),('y', float, 1)]),('color', [ ('r', float, 1),('g', float, 1),('b', float, 1)])])\n",
        "print(Z)"
      ]
    },
    {
      "cell_type": "markdown",
      "metadata": {
        "id": "FAxG04YZTXwY"
      },
      "source": [
        "#### 52. Consider a random vector with shape (100,2) representing coordinates, find point by point distances (★★☆) \n",
        "(**hint**: np.atleast\\_2d, T, np.sqrt)"
      ]
    },
    {
      "cell_type": "code",
      "execution_count": null,
      "metadata": {
        "id": "gcM0eYwuTXwY",
        "colab": {
          "base_uri": "https://localhost:8080/"
        },
        "outputId": "9a91d705-f64a-419d-8137-73b00f710038"
      },
      "outputs": [
        {
          "output_type": "stream",
          "name": "stdout",
          "text": [
            "[[0.         1.00145401 0.57893637 1.05860063 0.1465809  0.21113204\n",
            "  0.48139709 0.21660124 0.22710787 0.93202803]\n",
            " [1.00145401 0.         0.42255029 0.41651494 0.89064077 0.81719152\n",
            "  0.54559537 1.18421541 1.05493912 0.21324102]\n",
            " [0.57893637 0.42255029 0.         0.57604416 0.47302057 0.40124495\n",
            "  0.15605333 0.7660866  0.64985315 0.38696843]\n",
            " [1.05860063 0.41651494 0.57604416 0.         0.91775829 0.84783162\n",
            "  0.73201104 1.18548265 1.02068412 0.23059548]\n",
            " [0.1465809  0.89064077 0.47302057 0.91775829 0.         0.07420225\n",
            "  0.40715551 0.29362247 0.19770646 0.80296551]\n",
            " [0.21113204 0.81719152 0.40124495 0.84783162 0.07420225 0.\n",
            "  0.3465136  0.36709222 0.25561213 0.72912281]\n",
            " [0.48139709 0.54559537 0.15605333 0.73201104 0.40715551 0.3465136\n",
            "  0.         0.68703245 0.60146711 0.53974524]\n",
            " [0.21660124 1.18421541 0.7660866  1.18548265 0.29362247 0.36709222\n",
            "  0.68703245 0.         0.17710236 1.08982024]\n",
            " [0.22710787 1.05493912 0.64985315 1.02068412 0.19770646 0.25561213\n",
            "  0.60146711 0.17710236 0.         0.94143006]\n",
            " [0.93202803 0.21324102 0.38696843 0.23059548 0.80296551 0.72912281\n",
            "  0.53974524 1.08982024 0.94143006 0.        ]]\n",
            "[[0.         0.52168416 0.4016354  0.73577035 0.81525975 0.21046989\n",
            "  0.5903174  0.242684   0.90030403 0.49382908]\n",
            " [0.52168416 0.         0.19995932 0.71521656 0.2935974  0.55540394\n",
            "  0.34079463 0.51421627 0.38447719 0.53092572]\n",
            " [0.4016354  0.19995932 0.         0.54539709 0.46075297 0.37646316\n",
            "  0.4885314  0.48655016 0.52133883 0.33818766]\n",
            " [0.73577035 0.71521656 0.54539709 0.         0.86032142 0.54467477\n",
            "  1.03349452 0.93810687 0.84531752 0.24533104]\n",
            " [0.81525975 0.2935974  0.46075297 0.86032142 0.         0.83567953\n",
            "  0.47086918 0.78569851 0.12257483 0.73929523]\n",
            " [0.21046989 0.55540394 0.37646316 0.54467477 0.83567953 0.\n",
            "  0.72652252 0.44800255 0.89679425 0.31572971]\n",
            " [0.5903174  0.34079463 0.4885314  1.03349452 0.47086918 0.72652252\n",
            "  0.         0.43247681 0.59325543 0.82053272]\n",
            " [0.242684   0.51421627 0.48655016 0.93810687 0.78569851 0.44800255\n",
            "  0.43247681 0.         0.89223145 0.69288301]\n",
            " [0.90030403 0.38447719 0.52133883 0.84531752 0.12257483 0.89679425\n",
            "  0.59325543 0.89223145 0.         0.75834676]\n",
            " [0.49382908 0.53092572 0.33818766 0.24533104 0.73929523 0.31572971\n",
            "  0.82053272 0.69288301 0.75834676 0.        ]]\n"
          ]
        }
      ],
      "source": [
        "Z = np.random.random((10,2))\n",
        "X,Y = np.atleast_2d(Z[:,0], Z[:,1])\n",
        "D = np.sqrt( (X-X.T)**2 + (Y-Y.T)**2)\n",
        "print(D)\n",
        "import scipy\n",
        "\n",
        "import scipy.spatial\n",
        "\n",
        "Z = np.random.random((10,2))\n",
        "D = scipy.spatial.distance.cdist(Z,Z)\n",
        "print(D)"
      ]
    },
    {
      "cell_type": "markdown",
      "metadata": {
        "id": "qNewJQgRTXwY"
      },
      "source": [
        "#### 53. How to convert a float (32 bits) array into an integer (32 bits) in place? \n",
        "(**hint**: astype(copy=False))"
      ]
    },
    {
      "cell_type": "code",
      "execution_count": null,
      "metadata": {
        "id": "7ZHCYF-jTXwY",
        "colab": {
          "base_uri": "https://localhost:8080/"
        },
        "outputId": "ecf7d44c-ef55-4c25-beb8-676374159317"
      },
      "outputs": [
        {
          "output_type": "stream",
          "name": "stdout",
          "text": [
            "[0. 1. 2. 3. 4. 5. 6. 7. 8. 9.]\n"
          ]
        }
      ],
      "source": [
        "Z = np.arange(10, dtype=np.int32)\n",
        "Z = Z.astype(np.float32, copy=False)\n",
        "print(Z)"
      ]
    },
    {
      "cell_type": "markdown",
      "metadata": {
        "id": "OYFzD_i5TXwY"
      },
      "source": [
        "#### 54. How to read the following file? (★★☆) \n",
        "(**hint**: np.genfromtxt)"
      ]
    },
    {
      "cell_type": "markdown",
      "metadata": {
        "id": "2ZCV1wcHTXwZ"
      },
      "source": [
        "```\n",
        "1, 2, 3, 4, 5\n",
        "6,  ,  , 7, 8\n",
        " ,  , 9,10,11\n",
        "```"
      ]
    },
    {
      "cell_type": "code",
      "execution_count": null,
      "metadata": {
        "id": "JWosCxwETXwZ",
        "colab": {
          "base_uri": "https://localhost:8080/"
        },
        "outputId": "66df891c-4420-4705-8627-2819c9448c9f"
      },
      "outputs": [
        {
          "output_type": "stream",
          "name": "stdout",
          "text": [
            "[[ 1  2  3  4  5]\n",
            " [ 6 -1 -1  7  8]\n",
            " [-1 -1  9 10 11]]\n"
          ]
        },
        {
          "output_type": "stream",
          "name": "stderr",
          "text": [
            "/usr/local/lib/python3.7/dist-packages/ipykernel_launcher.py:7: DeprecationWarning: `np.int` is a deprecated alias for the builtin `int`. To silence this warning, use `int` by itself. Doing this will not modify any behavior and is safe. When replacing `np.int`, you may wish to use e.g. `np.int64` or `np.int32` to specify the precision. If you wish to review your current use, check the release note link for additional information.\n",
            "Deprecated in NumPy 1.20; for more details and guidance: https://numpy.org/devdocs/release/1.20.0-notes.html#deprecations\n",
            "  import sys\n"
          ]
        }
      ],
      "source": [
        "from io import StringIO\n",
        "\n",
        " \n",
        "s = StringIO(\"\"\"1, 2, 3, 4, 5\\n\n",
        "                6,  ,  , 7, 8\\n\n",
        "                 ,  , 9,10,11\\n\"\"\")\n",
        "Z = np.genfromtxt(s, delimiter=\",\", dtype=np.int)\n",
        "print(Z)"
      ]
    },
    {
      "cell_type": "markdown",
      "metadata": {
        "id": "6zwrCMEMTXwZ"
      },
      "source": [
        "#### 55. What is the equivalent of enumerate for numpy arrays? (★★☆) \n",
        "(**hint**: np.ndenumerate, np.ndindex)"
      ]
    },
    {
      "cell_type": "code",
      "execution_count": null,
      "metadata": {
        "id": "MftR2sElTXwZ",
        "colab": {
          "base_uri": "https://localhost:8080/"
        },
        "outputId": "e7a6d9a5-c060-44ed-f6ab-b86eb2e252af"
      },
      "outputs": [
        {
          "output_type": "stream",
          "name": "stdout",
          "text": [
            "(0, 0) 0\n",
            "(0, 1) 1\n",
            "(0, 2) 2\n",
            "(1, 0) 3\n",
            "(1, 1) 4\n",
            "(1, 2) 5\n",
            "(2, 0) 6\n",
            "(2, 1) 7\n",
            "(2, 2) 8\n",
            "(0, 0) 0\n",
            "(0, 1) 1\n",
            "(0, 2) 2\n",
            "(1, 0) 3\n",
            "(1, 1) 4\n",
            "(1, 2) 5\n",
            "(2, 0) 6\n",
            "(2, 1) 7\n",
            "(2, 2) 8\n"
          ]
        }
      ],
      "source": [
        "Z = np.arange(9).reshape(3,3)\n",
        "for index, value in np.ndenumerate(Z):\n",
        "    print(index, value)\n",
        "for index in np.ndindex(Z.shape):\n",
        "    print(index, Z[index])"
      ]
    },
    {
      "cell_type": "markdown",
      "metadata": {
        "id": "bqYdyqJCTXwZ"
      },
      "source": [
        "#### 56. Generate a generic 2D Gaussian-like array (★★☆) \n",
        "(**hint**: np.meshgrid, np.exp)"
      ]
    },
    {
      "cell_type": "code",
      "execution_count": null,
      "metadata": {
        "id": "yk9VB6HATXwZ",
        "colab": {
          "base_uri": "https://localhost:8080/"
        },
        "outputId": "a5ba8a21-c3ed-4172-baad-ecf497e35f0a"
      },
      "outputs": [
        {
          "output_type": "stream",
          "name": "stdout",
          "text": [
            "[[0.36787944 0.44822088 0.51979489 0.57375342 0.60279818 0.60279818\n",
            "  0.57375342 0.51979489 0.44822088 0.36787944]\n",
            " [0.44822088 0.54610814 0.63331324 0.69905581 0.73444367 0.73444367\n",
            "  0.69905581 0.63331324 0.54610814 0.44822088]\n",
            " [0.51979489 0.63331324 0.73444367 0.81068432 0.85172308 0.85172308\n",
            "  0.81068432 0.73444367 0.63331324 0.51979489]\n",
            " [0.57375342 0.69905581 0.81068432 0.89483932 0.9401382  0.9401382\n",
            "  0.89483932 0.81068432 0.69905581 0.57375342]\n",
            " [0.60279818 0.73444367 0.85172308 0.9401382  0.98773022 0.98773022\n",
            "  0.9401382  0.85172308 0.73444367 0.60279818]\n",
            " [0.60279818 0.73444367 0.85172308 0.9401382  0.98773022 0.98773022\n",
            "  0.9401382  0.85172308 0.73444367 0.60279818]\n",
            " [0.57375342 0.69905581 0.81068432 0.89483932 0.9401382  0.9401382\n",
            "  0.89483932 0.81068432 0.69905581 0.57375342]\n",
            " [0.51979489 0.63331324 0.73444367 0.81068432 0.85172308 0.85172308\n",
            "  0.81068432 0.73444367 0.63331324 0.51979489]\n",
            " [0.44822088 0.54610814 0.63331324 0.69905581 0.73444367 0.73444367\n",
            "  0.69905581 0.63331324 0.54610814 0.44822088]\n",
            " [0.36787944 0.44822088 0.51979489 0.57375342 0.60279818 0.60279818\n",
            "  0.57375342 0.51979489 0.44822088 0.36787944]]\n"
          ]
        }
      ],
      "source": [
        "X, Y = np.meshgrid(np.linspace(-1,1,10), np.linspace(-1,1,10))\n",
        "D = np.sqrt(X*X+Y*Y)\n",
        "sigma, mu = 1.0, 0.0\n",
        "G = np.exp(-( (D-mu)**2 / ( 2.0 * sigma**2 ) ) )\n",
        "print(G)"
      ]
    },
    {
      "cell_type": "markdown",
      "metadata": {
        "id": "i67V69dzTXwa"
      },
      "source": [
        "#### 57. How to randomly place p elements in a 2D array? (★★☆) \n",
        "(**hint**: np.put, np.random.choice)"
      ]
    },
    {
      "cell_type": "code",
      "execution_count": null,
      "metadata": {
        "id": "QJ-AMKeITXwa",
        "colab": {
          "base_uri": "https://localhost:8080/"
        },
        "outputId": "6bb3708c-f623-4f01-ad57-abaaa6933d3e"
      },
      "outputs": [
        {
          "output_type": "stream",
          "name": "stdout",
          "text": [
            "[[0. 0. 0. 0. 0. 0. 0. 0. 0. 0.]\n",
            " [0. 0. 0. 0. 0. 0. 0. 0. 0. 0.]\n",
            " [0. 0. 0. 0. 0. 0. 0. 1. 0. 0.]\n",
            " [0. 0. 0. 0. 0. 0. 0. 0. 0. 0.]\n",
            " [0. 0. 0. 0. 0. 0. 1. 0. 0. 0.]\n",
            " [0. 0. 0. 0. 0. 0. 0. 0. 0. 0.]\n",
            " [0. 0. 0. 0. 0. 0. 0. 0. 0. 0.]\n",
            " [0. 0. 0. 0. 0. 0. 0. 0. 0. 1.]\n",
            " [0. 0. 0. 0. 0. 0. 0. 0. 0. 0.]\n",
            " [0. 0. 0. 0. 0. 0. 0. 0. 0. 0.]]\n"
          ]
        }
      ],
      "source": [
        "n = 10\n",
        "p = 3\n",
        "Z = np.zeros((n,n))\n",
        "np.put(Z, np.random.choice(range(n*n), p, replace=False),1)\n",
        "print(Z)"
      ]
    },
    {
      "cell_type": "markdown",
      "metadata": {
        "id": "_W_gbR30TXwa"
      },
      "source": [
        "#### 58. Subtract the mean of each row of a matrix (★★☆) \n",
        "(**hint**: mean(axis=,keepdims=))"
      ]
    },
    {
      "cell_type": "code",
      "execution_count": null,
      "metadata": {
        "id": "mWWIZho2TXwa",
        "colab": {
          "base_uri": "https://localhost:8080/"
        },
        "outputId": "ebfe7180-3ea5-4e93-f010-e22aa65ba4b8"
      },
      "outputs": [
        {
          "output_type": "stream",
          "name": "stdout",
          "text": [
            "[[ 0.30468851 -0.15115038  0.25668181 -0.42029147  0.34587995 -0.02188449\n",
            "  -0.479517    0.25657764 -0.29227863  0.20129405]\n",
            " [-0.21933682  0.30247832  0.28861698  0.29562897 -0.27788168  0.17678033\n",
            "  -0.31768796 -0.25594177 -0.01642387  0.02376749]\n",
            " [-0.15395762 -0.1705125   0.48513623 -0.42987506  0.225152    0.0549721\n",
            "   0.02194063 -0.16658297 -0.37463058  0.50835779]\n",
            " [-0.01792277 -0.02732634  0.07989734  0.36969454 -0.16217573  0.00746359\n",
            "  -0.12176101 -0.19222111 -0.42993745  0.49428895]\n",
            " [ 0.50378715 -0.22997128 -0.36948358  0.02313485  0.39109535 -0.11646245\n",
            "   0.48522594 -0.38433013  0.00602956 -0.30902541]]\n"
          ]
        }
      ],
      "source": [
        "X = np.random.rand(5, 10)\n",
        "\n",
        "Y = X - X.mean(axis=1, keepdims=True)\n",
        "\n",
        "Y = X - X.mean(axis=1).reshape(-1, 1)\n",
        "\n",
        "print(Y)"
      ]
    },
    {
      "cell_type": "markdown",
      "metadata": {
        "id": "0xaT0DUfTXwa"
      },
      "source": [
        "#### 59. How to sort an array by the nth column? (★★☆) \n",
        "(**hint**: argsort)"
      ]
    },
    {
      "cell_type": "code",
      "execution_count": null,
      "metadata": {
        "id": "fVXL-_cxTXwa",
        "colab": {
          "base_uri": "https://localhost:8080/"
        },
        "outputId": "ff39daeb-16b7-460d-df0b-d54037f9a6cd"
      },
      "outputs": [
        {
          "output_type": "stream",
          "name": "stdout",
          "text": [
            "[[4 6 8]\n",
            " [3 4 9]\n",
            " [9 6 4]]\n",
            "[[3 4 9]\n",
            " [4 6 8]\n",
            " [9 6 4]]\n"
          ]
        }
      ],
      "source": [
        "Z = np.random.randint(0,10,(3,3))\n",
        "print(Z)\n",
        "print(Z[Z[:,1].argsort()])"
      ]
    },
    {
      "cell_type": "markdown",
      "metadata": {
        "id": "SgQZyjImTXwa"
      },
      "source": [
        "#### 60. How to tell if a given 2D array has null columns? (★★☆) \n",
        "(**hint**: any, ~)"
      ]
    },
    {
      "cell_type": "code",
      "execution_count": null,
      "metadata": {
        "id": "Lt5Jgnl0TXwb",
        "colab": {
          "base_uri": "https://localhost:8080/"
        },
        "outputId": "45463138-c2dd-4f18-80d7-7087583e7bcf"
      },
      "outputs": [
        {
          "output_type": "stream",
          "name": "stdout",
          "text": [
            "True\n"
          ]
        }
      ],
      "source": [
        "Z = np.random.randint(0,3,(3,10))\n",
        "print((~Z.any(axis=0)).any())"
      ]
    },
    {
      "cell_type": "markdown",
      "metadata": {
        "id": "n63WiTT3TXwb"
      },
      "source": [
        "#### 61. Find the nearest value from a given value in an array (★★☆) \n",
        "(**hint**: np.abs, argmin, flat)"
      ]
    },
    {
      "cell_type": "code",
      "execution_count": null,
      "metadata": {
        "id": "zOCZ_vZ0TXwb",
        "colab": {
          "base_uri": "https://localhost:8080/"
        },
        "outputId": "893d48e6-d47e-4c9e-f7e8-301161768642"
      },
      "outputs": [
        {
          "output_type": "stream",
          "name": "stdout",
          "text": [
            "0.5625733877665267\n"
          ]
        }
      ],
      "source": [
        "Z = np.random.uniform(0,1,10)\n",
        "z = 0.5\n",
        "m = Z.flat[np.abs(Z - z).argmin()]\n",
        "print(m)"
      ]
    },
    {
      "cell_type": "markdown",
      "metadata": {
        "id": "21LXvJ9YTXwb"
      },
      "source": [
        "#### 62. Considering two arrays with shape (1,3) and (3,1), how to compute their sum using an iterator? (★★☆) \n",
        "(**hint**: np.nditer)"
      ]
    },
    {
      "cell_type": "code",
      "execution_count": null,
      "metadata": {
        "id": "AE7JqediTXwb",
        "colab": {
          "base_uri": "https://localhost:8080/"
        },
        "outputId": "fb8b03d6-0915-4831-dfcf-0b45f52fbc8c"
      },
      "outputs": [
        {
          "output_type": "stream",
          "name": "stdout",
          "text": [
            "[[0 1 2]\n",
            " [1 2 3]\n",
            " [2 3 4]]\n"
          ]
        }
      ],
      "source": [
        "A = np.arange(3).reshape(3,1)\n",
        "B = np.arange(3).reshape(1,3)\n",
        "it = np.nditer([A,B,None])\n",
        "for x,y,z in it: z[...] = x + y\n",
        "print(it.operands[2])"
      ]
    },
    {
      "cell_type": "markdown",
      "metadata": {
        "id": "cszBnwNnTXwb"
      },
      "source": [
        "#### 63. Create an array class that has a name attribute (★★☆) \n",
        "(**hint**: class method)"
      ]
    },
    {
      "cell_type": "code",
      "execution_count": null,
      "metadata": {
        "id": "4eAvxwIdTXwc",
        "colab": {
          "base_uri": "https://localhost:8080/"
        },
        "outputId": "65bc83f6-5e61-4f88-f620-27cccbf234eb"
      },
      "outputs": [
        {
          "output_type": "stream",
          "name": "stdout",
          "text": [
            "range_10\n"
          ]
        }
      ],
      "source": [
        "class NamedArray(np.ndarray):\n",
        "    def __new__(cls, array, name=\"no name\"):\n",
        "        obj = np.asarray(array).view(cls)\n",
        "        obj.name = name\n",
        "        return obj\n",
        "    def __array_finalize__(self, obj):\n",
        "        if obj is None: return\n",
        "        self.info = getattr(obj, 'name', \"no name\")\n",
        "\n",
        "Z = NamedArray(np.arange(10), \"range_10\")\n",
        "print (Z.name)"
      ]
    },
    {
      "cell_type": "markdown",
      "metadata": {
        "id": "PVuIDXfITXwc"
      },
      "source": [
        "#### 64. Consider a given vector, how to add 1 to each element indexed by a second vector (be careful with repeated indices)? (★★★) \n",
        "(**hint**: np.bincount | np.add.at)"
      ]
    },
    {
      "cell_type": "code",
      "execution_count": null,
      "metadata": {
        "id": "QC7OyZbJTXwc",
        "colab": {
          "base_uri": "https://localhost:8080/"
        },
        "outputId": "3ddb89a9-f55a-4766-e6a2-7aead7c77020"
      },
      "outputs": [
        {
          "output_type": "stream",
          "name": "stdout",
          "text": [
            "[3. 1. 3. 3. 7. 4. 2. 2. 2. 3.]\n",
            "[ 5.  1.  5.  5. 13.  7.  3.  3.  3.  5.]\n"
          ]
        }
      ],
      "source": [
        "Z = np.ones(10)\n",
        "I = np.random.randint(0,len(Z),20)\n",
        "Z += np.bincount(I, minlength=len(Z))\n",
        "print(Z)\n",
        "np.add.at(Z, I, 1)\n",
        "print(Z)"
      ]
    },
    {
      "cell_type": "markdown",
      "metadata": {
        "id": "w9b-yUXkTXwc"
      },
      "source": [
        "#### 65. How to accumulate elements of a vector (X) to an array (F) based on an index list (I)? (★★★) \n",
        "(**hint**: np.bincount)"
      ]
    },
    {
      "cell_type": "code",
      "execution_count": null,
      "metadata": {
        "id": "V8ELxMuaTXwe",
        "colab": {
          "base_uri": "https://localhost:8080/"
        },
        "outputId": "6f9a5c94-2aad-4d16-924c-84913e05c6d5"
      },
      "outputs": [
        {
          "output_type": "stream",
          "name": "stdout",
          "text": [
            "[0. 7. 0. 6. 5. 0. 0. 0. 0. 3.]\n"
          ]
        }
      ],
      "source": [
        "X = [1,2,3,4,5,6]\n",
        "I = [1,3,9,3,4,1]\n",
        "F = np.bincount(I,X)\n",
        "print(F)"
      ]
    },
    {
      "cell_type": "markdown",
      "metadata": {
        "id": "09IBYyIQTXwf"
      },
      "source": [
        "#### 66. Considering a (w,h,3) image of (dtype=ubyte), compute the number of unique colors (★★★) \n",
        "(**hint**: np.unique)"
      ]
    },
    {
      "cell_type": "code",
      "execution_count": null,
      "metadata": {
        "id": "Rll262RHTXwf",
        "colab": {
          "base_uri": "https://localhost:8080/"
        },
        "outputId": "55102c21-d22a-4b02-e9ac-018dc0000796"
      },
      "outputs": [
        {
          "output_type": "stream",
          "name": "stdout",
          "text": [
            "[0 1]\n"
          ]
        }
      ],
      "source": [
        "w,h = 16,16\n",
        "I = np.random.randint(0,2,(h,w,3)).astype(np.ubyte)\n",
        "F = I[...,0]*256*256 + I[...,1]*256 +I[...,2]\n",
        "n = len(np.unique(F))\n",
        "print(np.unique(I))"
      ]
    },
    {
      "cell_type": "markdown",
      "metadata": {
        "id": "RibSHuwoTXwg"
      },
      "source": [
        "#### 67. Considering a four dimensions array, how to get sum over the last two axis at once? (★★★) \n",
        "(**hint**: sum(axis=(-2,-1)))"
      ]
    },
    {
      "cell_type": "code",
      "execution_count": null,
      "metadata": {
        "id": "BdWggwuWTXwg",
        "colab": {
          "base_uri": "https://localhost:8080/"
        },
        "outputId": "01669fe2-bc69-41f5-c8c0-cb9b6fc39296"
      },
      "outputs": [
        {
          "output_type": "stream",
          "name": "stdout",
          "text": [
            "[[78 51 55 58]\n",
            " [82 62 44 67]\n",
            " [35 56 44 47]]\n",
            "[[78 51 55 58]\n",
            " [82 62 44 67]\n",
            " [35 56 44 47]]\n"
          ]
        }
      ],
      "source": [
        "A = np.random.randint(0,10,(3,4,3,4))\n",
        "sum = A.sum(axis=(-2,-1))\n",
        "print(sum)\n",
        "sum = A.reshape(A.shape[:-2] + (-1,)).sum(axis=-1)\n",
        "print(sum)"
      ]
    },
    {
      "cell_type": "markdown",
      "metadata": {
        "id": "O4uDziHWTXwg"
      },
      "source": [
        "#### 68. Considering a one-dimensional vector D, how to compute means of subsets of D using a vector S of same size describing subset  indices? (★★★) \n",
        "(**hint**: np.bincount)"
      ]
    },
    {
      "cell_type": "code",
      "execution_count": null,
      "metadata": {
        "id": "6hsCGLe6TXwg",
        "colab": {
          "base_uri": "https://localhost:8080/"
        },
        "outputId": "6ecb3906-5e36-4d48-c88c-3dd1a806d6d1"
      },
      "outputs": [
        {
          "output_type": "stream",
          "name": "stdout",
          "text": [
            "[0.34425499 0.57067649 0.38232349 0.57248869 0.50518917 0.52150031\n",
            " 0.39621288 0.53920652 0.39561255 0.49999769]\n",
            "0    0.344255\n",
            "1    0.570676\n",
            "2    0.382323\n",
            "3    0.572489\n",
            "4    0.505189\n",
            "5    0.521500\n",
            "6    0.396213\n",
            "7    0.539207\n",
            "8    0.395613\n",
            "9    0.499998\n",
            "dtype: float64\n"
          ]
        }
      ],
      "source": [
        "D = np.random.uniform(0,1,100)\n",
        "S = np.random.randint(0,10,100)\n",
        "D_sums = np.bincount(S, weights=D)\n",
        "D_counts = np.bincount(S)\n",
        "D_means = D_sums / D_counts\n",
        "print(D_means)\n",
        "import pandas as pd\n",
        "print(pd.Series(D).groupby(S).mean())"
      ]
    },
    {
      "cell_type": "markdown",
      "metadata": {
        "id": "1t99aBUcTXwh"
      },
      "source": [
        "#### 69. How to get the diagonal of a dot product? (★★★) \n",
        "(**hint**: np.diag)"
      ]
    },
    {
      "cell_type": "code",
      "execution_count": null,
      "metadata": {
        "id": "rz3Hex9RTXwh",
        "colab": {
          "base_uri": "https://localhost:8080/"
        },
        "outputId": "b0fb940a-3e6a-48c8-fb2a-6484a92f6373"
      },
      "outputs": [
        {
          "output_type": "execute_result",
          "data": {
            "text/plain": [
              "array([1.18199685, 1.18443234, 1.72267608, 2.47195504, 1.48905445])"
            ]
          },
          "metadata": {},
          "execution_count": 44
        }
      ],
      "source": [
        "A = np.random.uniform(0,1,(5,5))\n",
        "B = np.random.uniform(0,1,(5,5))\n",
        "np.diag(np.dot(A, B))\n",
        "np.sum(A * B.T, axis=1)\n",
        "np.einsum(\"ij,ji->i\", A, B)"
      ]
    },
    {
      "cell_type": "markdown",
      "metadata": {
        "id": "K5lW8BWeTXwh"
      },
      "source": [
        "#### 70. Consider the vector \\[1, 2, 3, 4, 5\\], how to build a new vector with 3 consecutive zeros interleaved between each value? (★★★) \n",
        "(**hint**: array\\[::4\\])"
      ]
    },
    {
      "cell_type": "code",
      "execution_count": null,
      "metadata": {
        "id": "mSExIyVOTXwh",
        "colab": {
          "base_uri": "https://localhost:8080/"
        },
        "outputId": "5f1f70b8-15ae-4db6-c0cf-9bfcacd8ecb2"
      },
      "outputs": [
        {
          "output_type": "stream",
          "name": "stdout",
          "text": [
            "[1. 0. 0. 0. 2. 0. 0. 0. 3. 0. 0. 0. 4. 0. 0. 0. 5.]\n"
          ]
        }
      ],
      "source": [
        "Z = np.array([1,2,3,4,5])\n",
        "nz = 3\n",
        "Z0 = np.zeros(len(Z) + (len(Z)-1)*(nz))\n",
        "Z0[::nz+1] = Z\n",
        "print(Z0)"
      ]
    },
    {
      "cell_type": "markdown",
      "metadata": {
        "id": "haA_-xTpTXwh"
      },
      "source": [
        "#### 71. Consider an array of dimension (5,5,3), how to mulitply it by an array with dimensions (5,5)? (★★★) \n",
        "(**hint**: array\\[:, :, None\\])"
      ]
    },
    {
      "cell_type": "code",
      "execution_count": null,
      "metadata": {
        "collapsed": true,
        "id": "oqbk3_S3TXwh",
        "colab": {
          "base_uri": "https://localhost:8080/"
        },
        "outputId": "1d08c828-3989-4941-96fa-0d759778215a"
      },
      "outputs": [
        {
          "output_type": "stream",
          "name": "stdout",
          "text": [
            "[[[2. 2. 2.]\n",
            "  [2. 2. 2.]\n",
            "  [2. 2. 2.]\n",
            "  [2. 2. 2.]\n",
            "  [2. 2. 2.]]\n",
            "\n",
            " [[2. 2. 2.]\n",
            "  [2. 2. 2.]\n",
            "  [2. 2. 2.]\n",
            "  [2. 2. 2.]\n",
            "  [2. 2. 2.]]\n",
            "\n",
            " [[2. 2. 2.]\n",
            "  [2. 2. 2.]\n",
            "  [2. 2. 2.]\n",
            "  [2. 2. 2.]\n",
            "  [2. 2. 2.]]\n",
            "\n",
            " [[2. 2. 2.]\n",
            "  [2. 2. 2.]\n",
            "  [2. 2. 2.]\n",
            "  [2. 2. 2.]\n",
            "  [2. 2. 2.]]\n",
            "\n",
            " [[2. 2. 2.]\n",
            "  [2. 2. 2.]\n",
            "  [2. 2. 2.]\n",
            "  [2. 2. 2.]\n",
            "  [2. 2. 2.]]]\n"
          ]
        }
      ],
      "source": [
        "A = np.ones((5,5,3))\n",
        "B = 2*np.ones((5,5))\n",
        "print(A * B[:,:,None])"
      ]
    },
    {
      "cell_type": "markdown",
      "metadata": {
        "id": "uUMJ0ytlTXwi"
      },
      "source": [
        "#### 72. How to swap two rows of an array? (★★★) \n",
        "(**hint**: array\\[\\[\\]\\] = array\\[\\[\\]\\])"
      ]
    },
    {
      "cell_type": "code",
      "execution_count": null,
      "metadata": {
        "id": "wFxdUJp3TXwi",
        "colab": {
          "base_uri": "https://localhost:8080/"
        },
        "outputId": "dc4fbe74-15e5-42e9-cdf7-d42b975d72ed"
      },
      "outputs": [
        {
          "output_type": "stream",
          "name": "stdout",
          "text": [
            "[[ 5  6  7  8  9]\n",
            " [ 0  1  2  3  4]\n",
            " [10 11 12 13 14]\n",
            " [15 16 17 18 19]\n",
            " [20 21 22 23 24]]\n"
          ]
        }
      ],
      "source": [
        "A = np.arange(25).reshape(5,5)\n",
        "A[[0,1]] = A[[1,0]]\n",
        "print(A)"
      ]
    },
    {
      "cell_type": "markdown",
      "metadata": {
        "id": "70jCU0qTTXwi"
      },
      "source": [
        "#### 73. Consider a set of 10 triplets describing 10 triangles (with shared vertices), find the set of unique line segments composing all the  triangles (★★★) \n",
        "(**hint**: repeat, np.roll, np.sort, view, np.unique)"
      ]
    },
    {
      "cell_type": "code",
      "execution_count": null,
      "metadata": {
        "id": "sSORZrzwTXwj",
        "colab": {
          "base_uri": "https://localhost:8080/"
        },
        "outputId": "9f2fd2e8-f87d-410a-a67d-ff4bfbd93a44"
      },
      "outputs": [
        {
          "output_type": "stream",
          "name": "stdout",
          "text": [
            "[( 1, 36) ( 1, 44) ( 4,  5) ( 4, 13) ( 4, 22) ( 5, 22) (13, 13) (19, 33)\n",
            " (19, 97) (20, 36) (20, 79) (25, 37) (25, 43) (25, 48) (29, 69) (29, 79)\n",
            " (32, 40) (32, 47) (33, 97) (36, 44) (36, 79) (37, 43) (40, 47) (43, 48)\n",
            " (54, 80) (54, 93) (69, 79) (80, 93)]\n"
          ]
        }
      ],
      "source": [
        "faces = np.random.randint(0,100,(10,3))\n",
        "F = np.roll(faces.repeat(2,axis=1),-1,axis=1)\n",
        "F = F.reshape(len(F)*3,2)\n",
        "F = np.sort(F,axis=1)\n",
        "G = F.view( dtype=[('p0',F.dtype),('p1',F.dtype)] )\n",
        "G = np.unique(G)\n",
        "print(G)"
      ]
    },
    {
      "cell_type": "markdown",
      "metadata": {
        "id": "-HKjist8TXwj"
      },
      "source": [
        "#### 74. Given an array C that is a bincount, how to produce an array A such that np.bincount(A) == C? (★★★) \n",
        "(**hint**: np.repeat)"
      ]
    },
    {
      "cell_type": "code",
      "execution_count": null,
      "metadata": {
        "id": "Px71SUYqTXwk",
        "colab": {
          "base_uri": "https://localhost:8080/"
        },
        "outputId": "ff6b380f-78f5-45e5-91e7-f9c45ad88284"
      },
      "outputs": [
        {
          "output_type": "stream",
          "name": "stdout",
          "text": [
            "[1 1 2 3 4 4 6]\n"
          ]
        }
      ],
      "source": [
        "C = np.bincount([1,1,2,3,4,4,6])\n",
        "A = np.repeat(np.arange(len(C)), C)\n",
        "print(A)"
      ]
    },
    {
      "cell_type": "markdown",
      "metadata": {
        "id": "6CItY-IpTXwk"
      },
      "source": [
        "#### 75. How to compute averages using a sliding window over an array? (★★★) \n",
        "(**hint**: np.cumsum)"
      ]
    },
    {
      "cell_type": "code",
      "execution_count": null,
      "metadata": {
        "id": "In9Zm1ItTXwl",
        "colab": {
          "base_uri": "https://localhost:8080/"
        },
        "outputId": "69846062-a1c4-4a04-f532-934fb39fbc72"
      },
      "outputs": [
        {
          "output_type": "stream",
          "name": "stdout",
          "text": [
            "[ 1.  2.  3.  4.  5.  6.  7.  8.  9. 10. 11. 12. 13. 14. 15. 16. 17. 18.]\n"
          ]
        }
      ],
      "source": [
        "def moving_average(a, n=3) :\n",
        "    ret = np.cumsum(a, dtype=float)\n",
        "    ret[n:] = ret[n:] - ret[:-n]\n",
        "    return ret[n - 1:] / n\n",
        "Z = np.arange(20)\n",
        "print(moving_average(Z, n=3))"
      ]
    },
    {
      "cell_type": "markdown",
      "metadata": {
        "id": "rYx5sBK8TXwl"
      },
      "source": [
        "#### 76. Consider a one-dimensional array Z, build a two-dimensional array whose first row is (Z\\[0\\],Z\\[1\\],Z\\[2\\]) and each subsequent row is  shifted by 1 (last row should be (Z\\[-3\\],Z\\[-2\\],Z\\[-1\\]) (★★★) \n",
        "(**hint**: from numpy.lib import stride_tricks)"
      ]
    },
    {
      "cell_type": "code",
      "execution_count": null,
      "metadata": {
        "id": "0RYTWN-qTXwm",
        "colab": {
          "base_uri": "https://localhost:8080/"
        },
        "outputId": "5ff70eb1-f063-4149-87fe-939211bb852a"
      },
      "outputs": [
        {
          "output_type": "stream",
          "name": "stdout",
          "text": [
            "[[0 1 2]\n",
            " [1 2 3]\n",
            " [2 3 4]\n",
            " [3 4 5]\n",
            " [4 5 6]\n",
            " [5 6 7]\n",
            " [6 7 8]\n",
            " [7 8 9]]\n"
          ]
        }
      ],
      "source": [
        "from numpy.lib import stride_tricks\n",
        "\n",
        "def rolling(a, window):\n",
        "    shape = (a.size - window + 1, window)\n",
        "    strides = (a.itemsize, a.itemsize)\n",
        "    return stride_tricks.as_strided(a, shape=shape, strides=strides)\n",
        "Z = rolling(np.arange(10), 3)\n",
        "print(Z)"
      ]
    },
    {
      "cell_type": "markdown",
      "metadata": {
        "id": "Jn9mbKByTXwn"
      },
      "source": [
        "#### 77. How to negate a boolean, or to change the sign of a float inplace? (★★★) \n",
        "(**hint**: np.logical_not, np.negative)"
      ]
    },
    {
      "cell_type": "code",
      "execution_count": null,
      "metadata": {
        "id": "lc1DaC_5TXwn",
        "colab": {
          "base_uri": "https://localhost:8080/"
        },
        "outputId": "95c07ff2-5074-49e6-9c80-80b5fb353835"
      },
      "outputs": [
        {
          "output_type": "execute_result",
          "data": {
            "text/plain": [
              "array([ 0.26161677, -0.56156186,  0.46639179,  0.80206123, -0.77123902,\n",
              "        0.3420005 ,  0.37724614, -0.57213756, -0.55204936,  0.4239971 ,\n",
              "        0.26040351, -0.38787109,  0.28516347,  0.83393795, -0.37682688,\n",
              "        0.8590022 ,  0.40162668, -0.33946555, -0.62916001, -0.10039424,\n",
              "       -0.17258061,  0.9654955 , -0.42251434, -0.87947983,  0.15941659,\n",
              "        0.06071474,  0.48845618, -0.18582048,  0.59194721,  0.57166246,\n",
              "        0.92859004,  0.3203609 ,  0.63030267,  0.0535739 , -0.35516751,\n",
              "        0.98106505,  0.49133456, -0.24388048,  0.67332695, -0.24511405,\n",
              "        0.13285742,  0.80922566, -0.1266415 , -0.50624098,  0.6760979 ,\n",
              "        0.44261515, -0.44344539, -0.68572062,  0.07335628, -0.64373172,\n",
              "       -0.02478397,  0.87410007,  0.15252023,  0.07087672,  0.34229344,\n",
              "        0.79313049,  0.36015262,  0.32527648, -0.26083233, -0.23144081,\n",
              "       -0.41390498,  0.43183953, -0.75174499, -0.23733694, -0.73865099,\n",
              "        0.53849813, -0.38877119,  0.75511408, -0.11697646, -0.24091463,\n",
              "       -0.31651449,  0.42850559,  0.13099132, -0.90036675,  0.15510539,\n",
              "       -0.70008797, -0.03258009, -0.34756394, -0.04942265,  0.94668021,\n",
              "        0.05471733,  0.59503638, -0.44707108, -0.00666054,  0.54497524,\n",
              "       -0.53875448,  0.12261296,  0.18930085, -0.57053121,  0.64000167,\n",
              "       -0.9297537 , -0.42115731, -0.8577537 ,  0.77890457,  0.20238975,\n",
              "       -0.18200316, -0.65191049,  0.01852584,  0.00396957, -0.21255467])"
            ]
          },
          "metadata": {},
          "execution_count": 53
        }
      ],
      "source": [
        "Z = np.random.randint(0,2,100)\n",
        "np.logical_not(Z, out=Z)\n",
        "\n",
        "Z = np.random.uniform(-1.0,1.0,100)\n",
        "np.negative(Z, out=Z)"
      ]
    },
    {
      "cell_type": "markdown",
      "metadata": {
        "id": "SCmwHnn_TXwo"
      },
      "source": [
        "#### 78. Consider 2 sets of points P0,P1 describing lines (2d) and a point p, how to compute distance from p to each line i  (P0\\[i\\],P1\\[i\\])? (★★★)"
      ]
    },
    {
      "cell_type": "code",
      "execution_count": null,
      "metadata": {
        "id": "mX_1SbFwTXwo",
        "colab": {
          "base_uri": "https://localhost:8080/"
        },
        "outputId": "e6c6386f-5cda-4073-e56a-52a58ead379c"
      },
      "outputs": [
        {
          "output_type": "stream",
          "name": "stdout",
          "text": [
            "[ 6.75149252 17.52664647  9.2841939   0.20157422 18.9122728  12.96460252\n",
            "  9.17389746  1.19745078 17.12662198 17.6740722 ]\n"
          ]
        }
      ],
      "source": [
        "def distance(P0, P1, p):\n",
        "    T = P1 - P0\n",
        "    L = (T**2).sum(axis=1)\n",
        "    U = -((P0[:,0]-p[...,0])*T[:,0] + (P0[:,1]-p[...,1])*T[:,1]) / L\n",
        "    U = U.reshape(len(U),1)\n",
        "    D = P0 + U*T - p\n",
        "    return np.sqrt((D**2).sum(axis=1))\n",
        "\n",
        "P0 = np.random.uniform(-10,10,(10,2))\n",
        "P1 = np.random.uniform(-10,10,(10,2))\n",
        "p  = np.random.uniform(-10,10,( 1,2))\n",
        "print(distance(P0, P1, p))"
      ]
    },
    {
      "cell_type": "markdown",
      "metadata": {
        "id": "nogRjxsNTXwo"
      },
      "source": [
        "#### 79. Consider 2 sets of points P0,P1 describing lines (2d) and a set of points P, how to compute distance from each point j (P\\[j\\]) to each line i (P0\\[i\\],P1\\[i\\])? (★★★)"
      ]
    },
    {
      "cell_type": "code",
      "execution_count": null,
      "metadata": {
        "id": "r0-h88EWTXwo",
        "colab": {
          "base_uri": "https://localhost:8080/"
        },
        "outputId": "4feb565f-2a7d-46e7-cd1c-d559834a077d"
      },
      "outputs": [
        {
          "output_type": "stream",
          "name": "stdout",
          "text": [
            "[[ 2.87669373  0.50943578  7.13003013  4.83373957 12.60301914  8.20686061\n",
            "   5.8536771   1.48506483  3.35547354  1.72740586]\n",
            " [12.54600614  9.63954788  2.75292152 12.69108621  3.94631371 13.34283082\n",
            "   3.52493303  8.93649918  4.93239559  6.03846336]\n",
            " [13.67911928 12.59425152  5.0215672  12.34771512  0.79645388 11.74770658\n",
            "   0.14999334 12.36419766  4.85214037  9.58039192]\n",
            " [ 0.24769894  1.25526966  9.39425623  2.21603936 14.14357368  5.97386829\n",
            "   5.30564451  0.43178955  6.00925035  1.71159681]\n",
            " [10.24671945  3.07173824  2.18769376 13.77162529 10.98621867 17.24659765\n",
            "  11.31502168  1.20558318  5.4144639   2.07064747]\n",
            " [ 3.38348983  6.077598   13.92679067  0.20003805 18.97344151  5.66960329\n",
            "   8.47386623  4.25532731  8.34417587  2.15276559]\n",
            " [ 2.84747106  6.73208138  3.47730428  0.61787176  5.54780147  0.90574838\n",
            "   4.42617794  9.93366536  6.86741147 11.78468587]\n",
            " [15.53385783 10.63681866  4.73212122 16.3423933   3.33787377 17.05596972\n",
            "   5.80729931  8.76694731  8.51093271  4.43184324]\n",
            " [10.98734172  5.93410224  0.15625959 12.92267781  7.87247935 15.11863841\n",
            "   7.57663038  4.70795685  4.8425541   1.74462539]\n",
            " [ 4.18922446  1.88213856 11.83013431  3.77894114 14.0794619   0.53563984\n",
            "   0.51070223  1.84111124 11.79980179  5.47346906]]\n"
          ]
        }
      ],
      "source": [
        "P0 = np.random.uniform(-10, 10, (10,2))\n",
        "P1 = np.random.uniform(-10,10,(10,2))\n",
        "p = np.random.uniform(-10, 10, (10,2))\n",
        "print(np.array([distance(P0,P1,p_i) for p_i in p]))"
      ]
    },
    {
      "cell_type": "markdown",
      "metadata": {
        "id": "5eJ3edFATXwp"
      },
      "source": [
        "#### 80. Consider an arbitrary array, write a function that extract a subpart with a fixed shape and centered on a given element (pad with a `fill` value when necessary) (★★★) \n",
        "(**hint**: minimum, maximum)"
      ]
    },
    {
      "cell_type": "code",
      "execution_count": null,
      "metadata": {
        "id": "cPVhhhElTXwp",
        "colab": {
          "base_uri": "https://localhost:8080/"
        },
        "outputId": "a08997bf-c250-4795-ac62-d84ff136895b"
      },
      "outputs": [
        {
          "output_type": "stream",
          "name": "stdout",
          "text": [
            "[[7 6 7 7 7 9 2 4 1 3]\n",
            " [4 6 8 8 6 5 5 2 6 7]\n",
            " [7 5 7 2 7 4 4 4 7 0]\n",
            " [8 8 8 6 5 7 4 6 3 3]\n",
            " [6 4 6 3 7 2 2 9 7 1]\n",
            " [3 0 1 3 6 8 3 3 8 2]\n",
            " [4 9 7 0 4 4 8 4 8 0]\n",
            " [4 2 4 1 5 2 5 6 0 3]\n",
            " [2 1 1 6 7 1 3 7 9 9]\n",
            " [2 5 2 5 6 4 3 3 3 1]]\n",
            "[[0 0 0 0 0]\n",
            " [0 7 6 7 7]\n",
            " [0 4 6 8 8]\n",
            " [0 7 5 7 2]\n",
            " [0 8 8 8 6]]\n"
          ]
        },
        {
          "output_type": "stream",
          "name": "stderr",
          "text": [
            "/usr/local/lib/python3.7/dist-packages/ipykernel_launcher.py:23: FutureWarning: Using a non-tuple sequence for multidimensional indexing is deprecated; use `arr[tuple(seq)]` instead of `arr[seq]`. In the future this will be interpreted as an array index, `arr[np.array(seq)]`, which will result either in an error or a different result.\n"
          ]
        }
      ],
      "source": [
        "Z = np.random.randint(0,10,(10,10))\n",
        "shape = (5,5)\n",
        "fill  = 0\n",
        "position = (1,1)\n",
        "\n",
        "R = np.ones(shape, dtype=Z.dtype)*fill\n",
        "P  = np.array(list(position)).astype(int)\n",
        "Rs = np.array(list(R.shape)).astype(int)\n",
        "Zs = np.array(list(Z.shape)).astype(int)\n",
        "\n",
        "R_start = np.zeros((len(shape),)).astype(int)\n",
        "R_stop  = np.array(list(shape)).astype(int)\n",
        "Z_start = (P-Rs//2)\n",
        "Z_stop  = (P+Rs//2)+Rs%2\n",
        "\n",
        "R_start = (R_start - np.minimum(Z_start,0)).tolist()\n",
        "Z_start = (np.maximum(Z_start,0)).tolist()\n",
        "R_stop = np.maximum(R_start, (R_stop - np.maximum(Z_stop-Zs,0))).tolist()\n",
        "Z_stop = (np.minimum(Z_stop,Zs)).tolist()\n",
        "\n",
        "r = [slice(start,stop) for start,stop in zip(R_start,R_stop)]\n",
        "z = [slice(start,stop) for start,stop in zip(Z_start,Z_stop)]\n",
        "R[r] = Z[z]\n",
        "print(Z)\n",
        "print(R)"
      ]
    },
    {
      "cell_type": "markdown",
      "metadata": {
        "id": "-d8p9JqcTXwp"
      },
      "source": [
        "#### 81. Consider an array Z = \\[1,2,3,4,5,6,7,8,9,10,11,12,13,14\\], how to generate an array R = \\[\\[1,2,3,4\\], \\[2,3,4,5\\], \\[3,4,5,6\\], ..., \\[11,12,13,14\\]\\]? (★★★) \n",
        "(**hint**: stride\\_tricks.as\\_strided)"
      ]
    },
    {
      "cell_type": "code",
      "execution_count": null,
      "metadata": {
        "id": "WrpTrtA9TXwp",
        "colab": {
          "base_uri": "https://localhost:8080/"
        },
        "outputId": "b0756ead-db86-44bc-b782-bae2d80c0149"
      },
      "outputs": [
        {
          "output_type": "stream",
          "name": "stdout",
          "text": [
            "[[ 1  2  3  4]\n",
            " [ 2  3  4  5]\n",
            " [ 3  4  5  6]\n",
            " [ 4  5  6  7]\n",
            " [ 5  6  7  8]\n",
            " [ 6  7  8  9]\n",
            " [ 7  8  9 10]\n",
            " [ 8  9 10 11]\n",
            " [ 9 10 11 12]\n",
            " [10 11 12 13]\n",
            " [11 12 13 14]]\n"
          ]
        }
      ],
      "source": [
        "Z = np.arange(1,15,dtype=np.uint32)\n",
        "R = stride_tricks.as_strided(Z,(11,4),(4,4))\n",
        "print(R)"
      ]
    },
    {
      "cell_type": "markdown",
      "metadata": {
        "id": "uHmn3EPPTXwp"
      },
      "source": [
        "#### 82. Compute a matrix rank (★★★) \n",
        "(**hint**: np.linalg.svd) (suggestion: np.linalg.svd)"
      ]
    },
    {
      "cell_type": "code",
      "execution_count": null,
      "metadata": {
        "id": "RuhwafeMTXwq",
        "colab": {
          "base_uri": "https://localhost:8080/"
        },
        "outputId": "7b78ee1c-cac1-42c1-8291-e93263b0a26f"
      },
      "outputs": [
        {
          "output_type": "stream",
          "name": "stdout",
          "text": [
            "10\n"
          ]
        }
      ],
      "source": [
        "Z = np.random.uniform(0,1,(10,10))\n",
        "U, S, V = np.linalg.svd(Z) \n",
        "rank = np.sum(S > 1e-10)\n",
        "print(rank)"
      ]
    },
    {
      "cell_type": "markdown",
      "metadata": {
        "id": "3mZzeW8TTXwq"
      },
      "source": [
        "#### 83. How to find the most frequent value in an array? \n",
        "(**hint**: np.bincount, argmax)"
      ]
    },
    {
      "cell_type": "code",
      "execution_count": null,
      "metadata": {
        "id": "D7JayFG0TXwq",
        "colab": {
          "base_uri": "https://localhost:8080/"
        },
        "outputId": "2a6b3c03-c6c5-43ea-ba74-5b1bbb1cd2ae"
      },
      "outputs": [
        {
          "output_type": "stream",
          "name": "stdout",
          "text": [
            "2\n"
          ]
        }
      ],
      "source": [
        "Z = np.random.randint(0,10,50)\n",
        "print(np.bincount(Z).argmax())"
      ]
    },
    {
      "cell_type": "markdown",
      "metadata": {
        "id": "mU-CUwftTXwq"
      },
      "source": [
        "#### 84. Extract all the contiguous 3x3 blocks from a random 10x10 matrix (★★★) \n",
        "(**hint**: stride\\_tricks.as\\_strided)"
      ]
    },
    {
      "cell_type": "code",
      "execution_count": null,
      "metadata": {
        "id": "2C5eCwmYTXwq",
        "colab": {
          "base_uri": "https://localhost:8080/"
        },
        "outputId": "a398736f-71f8-4bf7-dd25-c8beed35174a"
      },
      "outputs": [
        {
          "output_type": "stream",
          "name": "stdout",
          "text": [
            "[[[[2 0 0]\n",
            "   [1 0 0]\n",
            "   [2 0 0]]\n",
            "\n",
            "  [[0 0 1]\n",
            "   [0 0 2]\n",
            "   [0 0 4]]\n",
            "\n",
            "  [[0 1 4]\n",
            "   [0 2 1]\n",
            "   [0 4 2]]\n",
            "\n",
            "  [[1 4 4]\n",
            "   [2 1 0]\n",
            "   [4 2 0]]\n",
            "\n",
            "  [[4 4 3]\n",
            "   [1 0 0]\n",
            "   [2 0 4]]\n",
            "\n",
            "  [[4 3 3]\n",
            "   [0 0 0]\n",
            "   [0 4 4]]\n",
            "\n",
            "  [[3 3 1]\n",
            "   [0 0 0]\n",
            "   [4 4 0]]\n",
            "\n",
            "  [[3 1 2]\n",
            "   [0 0 1]\n",
            "   [4 0 4]]]\n",
            "\n",
            "\n",
            " [[[1 0 0]\n",
            "   [2 0 0]\n",
            "   [3 1 0]]\n",
            "\n",
            "  [[0 0 2]\n",
            "   [0 0 4]\n",
            "   [1 0 4]]\n",
            "\n",
            "  [[0 2 1]\n",
            "   [0 4 2]\n",
            "   [0 4 2]]\n",
            "\n",
            "  [[2 1 0]\n",
            "   [4 2 0]\n",
            "   [4 2 2]]\n",
            "\n",
            "  [[1 0 0]\n",
            "   [2 0 4]\n",
            "   [2 2 2]]\n",
            "\n",
            "  [[0 0 0]\n",
            "   [0 4 4]\n",
            "   [2 2 1]]\n",
            "\n",
            "  [[0 0 0]\n",
            "   [4 4 0]\n",
            "   [2 1 1]]\n",
            "\n",
            "  [[0 0 1]\n",
            "   [4 0 4]\n",
            "   [1 1 4]]]\n",
            "\n",
            "\n",
            " [[[2 0 0]\n",
            "   [3 1 0]\n",
            "   [4 0 1]]\n",
            "\n",
            "  [[0 0 4]\n",
            "   [1 0 4]\n",
            "   [0 1 3]]\n",
            "\n",
            "  [[0 4 2]\n",
            "   [0 4 2]\n",
            "   [1 3 1]]\n",
            "\n",
            "  [[4 2 0]\n",
            "   [4 2 2]\n",
            "   [3 1 4]]\n",
            "\n",
            "  [[2 0 4]\n",
            "   [2 2 2]\n",
            "   [1 4 2]]\n",
            "\n",
            "  [[0 4 4]\n",
            "   [2 2 1]\n",
            "   [4 2 3]]\n",
            "\n",
            "  [[4 4 0]\n",
            "   [2 1 1]\n",
            "   [2 3 3]]\n",
            "\n",
            "  [[4 0 4]\n",
            "   [1 1 4]\n",
            "   [3 3 3]]]\n",
            "\n",
            "\n",
            " [[[3 1 0]\n",
            "   [4 0 1]\n",
            "   [0 4 3]]\n",
            "\n",
            "  [[1 0 4]\n",
            "   [0 1 3]\n",
            "   [4 3 3]]\n",
            "\n",
            "  [[0 4 2]\n",
            "   [1 3 1]\n",
            "   [3 3 0]]\n",
            "\n",
            "  [[4 2 2]\n",
            "   [3 1 4]\n",
            "   [3 0 4]]\n",
            "\n",
            "  [[2 2 2]\n",
            "   [1 4 2]\n",
            "   [0 4 4]]\n",
            "\n",
            "  [[2 2 1]\n",
            "   [4 2 3]\n",
            "   [4 4 2]]\n",
            "\n",
            "  [[2 1 1]\n",
            "   [2 3 3]\n",
            "   [4 2 0]]\n",
            "\n",
            "  [[1 1 4]\n",
            "   [3 3 3]\n",
            "   [2 0 0]]]\n",
            "\n",
            "\n",
            " [[[4 0 1]\n",
            "   [0 4 3]\n",
            "   [2 1 4]]\n",
            "\n",
            "  [[0 1 3]\n",
            "   [4 3 3]\n",
            "   [1 4 2]]\n",
            "\n",
            "  [[1 3 1]\n",
            "   [3 3 0]\n",
            "   [4 2 4]]\n",
            "\n",
            "  [[3 1 4]\n",
            "   [3 0 4]\n",
            "   [2 4 4]]\n",
            "\n",
            "  [[1 4 2]\n",
            "   [0 4 4]\n",
            "   [4 4 0]]\n",
            "\n",
            "  [[4 2 3]\n",
            "   [4 4 2]\n",
            "   [4 0 2]]\n",
            "\n",
            "  [[2 3 3]\n",
            "   [4 2 0]\n",
            "   [0 2 4]]\n",
            "\n",
            "  [[3 3 3]\n",
            "   [2 0 0]\n",
            "   [2 4 1]]]\n",
            "\n",
            "\n",
            " [[[0 4 3]\n",
            "   [2 1 4]\n",
            "   [3 3 4]]\n",
            "\n",
            "  [[4 3 3]\n",
            "   [1 4 2]\n",
            "   [3 4 4]]\n",
            "\n",
            "  [[3 3 0]\n",
            "   [4 2 4]\n",
            "   [4 4 4]]\n",
            "\n",
            "  [[3 0 4]\n",
            "   [2 4 4]\n",
            "   [4 4 2]]\n",
            "\n",
            "  [[0 4 4]\n",
            "   [4 4 0]\n",
            "   [4 2 1]]\n",
            "\n",
            "  [[4 4 2]\n",
            "   [4 0 2]\n",
            "   [2 1 1]]\n",
            "\n",
            "  [[4 2 0]\n",
            "   [0 2 4]\n",
            "   [1 1 1]]\n",
            "\n",
            "  [[2 0 0]\n",
            "   [2 4 1]\n",
            "   [1 1 2]]]\n",
            "\n",
            "\n",
            " [[[2 1 4]\n",
            "   [3 3 4]\n",
            "   [2 3 3]]\n",
            "\n",
            "  [[1 4 2]\n",
            "   [3 4 4]\n",
            "   [3 3 3]]\n",
            "\n",
            "  [[4 2 4]\n",
            "   [4 4 4]\n",
            "   [3 3 0]]\n",
            "\n",
            "  [[2 4 4]\n",
            "   [4 4 2]\n",
            "   [3 0 1]]\n",
            "\n",
            "  [[4 4 0]\n",
            "   [4 2 1]\n",
            "   [0 1 3]]\n",
            "\n",
            "  [[4 0 2]\n",
            "   [2 1 1]\n",
            "   [1 3 4]]\n",
            "\n",
            "  [[0 2 4]\n",
            "   [1 1 1]\n",
            "   [3 4 0]]\n",
            "\n",
            "  [[2 4 1]\n",
            "   [1 1 2]\n",
            "   [4 0 4]]]\n",
            "\n",
            "\n",
            " [[[3 3 4]\n",
            "   [2 3 3]\n",
            "   [2 3 0]]\n",
            "\n",
            "  [[3 4 4]\n",
            "   [3 3 3]\n",
            "   [3 0 4]]\n",
            "\n",
            "  [[4 4 4]\n",
            "   [3 3 0]\n",
            "   [0 4 1]]\n",
            "\n",
            "  [[4 4 2]\n",
            "   [3 0 1]\n",
            "   [4 1 1]]\n",
            "\n",
            "  [[4 2 1]\n",
            "   [0 1 3]\n",
            "   [1 1 4]]\n",
            "\n",
            "  [[2 1 1]\n",
            "   [1 3 4]\n",
            "   [1 4 1]]\n",
            "\n",
            "  [[1 1 1]\n",
            "   [3 4 0]\n",
            "   [4 1 0]]\n",
            "\n",
            "  [[1 1 2]\n",
            "   [4 0 4]\n",
            "   [1 0 3]]]]\n"
          ]
        }
      ],
      "source": [
        "Z = np.random.randint(0,5,(10,10))\n",
        "n = 3\n",
        "i = 1 + (Z.shape[0]-3)\n",
        "j = 1 + (Z.shape[1]-3)\n",
        "C = stride_tricks.as_strided(Z, shape=(i, j, n, n), strides=Z.strides + Z.strides)\n",
        "print(C)"
      ]
    },
    {
      "cell_type": "markdown",
      "metadata": {
        "id": "m-0McPLaTXwq"
      },
      "source": [
        "#### 85. Create a 2D array subclass such that Z\\[i,j\\] == Z\\[j,i\\] (★★★) \n",
        "(**hint**: class method)"
      ]
    },
    {
      "cell_type": "code",
      "execution_count": null,
      "metadata": {
        "id": "iTW_b8ZoTXwr",
        "colab": {
          "base_uri": "https://localhost:8080/"
        },
        "outputId": "55cb47ec-7f3c-4faa-fb65-b3455d3438eb"
      },
      "outputs": [
        {
          "output_type": "stream",
          "name": "stdout",
          "text": [
            "[[ 7  8  3 10 13]\n",
            " [ 8  6  1  7 12]\n",
            " [ 3  1  9 42  8]\n",
            " [10  7 42  1 10]\n",
            " [13 12  8 10  8]]\n"
          ]
        }
      ],
      "source": [
        "class Symetric(np.ndarray):\n",
        "    def __setitem__(self, index, value):\n",
        "        i,j = index\n",
        "        super(Symetric, self).__setitem__((i,j), value)\n",
        "        super(Symetric, self).__setitem__((j,i), value)\n",
        "\n",
        "def symetric(Z):\n",
        "    return np.asarray(Z + Z.T - np.diag(Z.diagonal())).view(Symetric)\n",
        "\n",
        "S = symetric(np.random.randint(0,10,(5,5)))\n",
        "S[2,3] = 42\n",
        "print(S)"
      ]
    },
    {
      "cell_type": "markdown",
      "metadata": {
        "id": "PQ9Od2GSTXwr"
      },
      "source": [
        "#### 86. Consider a set of p matrices wich shape (n,n) and a set of p vectors with shape (n,1). How to compute the sum of of the p matrix products at once? (result has shape (n,1)) (★★★) \n",
        "(**hint**: np.tensordot)"
      ]
    },
    {
      "cell_type": "code",
      "execution_count": null,
      "metadata": {
        "id": "YNin9dgvTXwr",
        "colab": {
          "base_uri": "https://localhost:8080/"
        },
        "outputId": "80a435d5-5060-4d67-ad44-40d6c0c585ad"
      },
      "outputs": [
        {
          "output_type": "stream",
          "name": "stdout",
          "text": [
            "[[200.]\n",
            " [200.]\n",
            " [200.]\n",
            " [200.]\n",
            " [200.]\n",
            " [200.]\n",
            " [200.]\n",
            " [200.]\n",
            " [200.]\n",
            " [200.]\n",
            " [200.]\n",
            " [200.]\n",
            " [200.]\n",
            " [200.]\n",
            " [200.]\n",
            " [200.]\n",
            " [200.]\n",
            " [200.]\n",
            " [200.]\n",
            " [200.]]\n"
          ]
        }
      ],
      "source": [
        "p, n = 10, 20\n",
        "M = np.ones((p,n,n))\n",
        "V = np.ones((p,n,1))\n",
        "S = np.tensordot(M, V, axes=[[0, 2], [0, 1]])\n",
        "print(S)\n"
      ]
    },
    {
      "cell_type": "markdown",
      "metadata": {
        "id": "phQYyGvzTXwr"
      },
      "source": [
        "#### 87. Consider a 16x16 array, how to get the block-sum (block size is 4x4)? (★★★) \n",
        "(**hint**: np.add.reduceat)"
      ]
    },
    {
      "cell_type": "code",
      "execution_count": null,
      "metadata": {
        "id": "5-EotaQDTXwr",
        "colab": {
          "base_uri": "https://localhost:8080/"
        },
        "outputId": "21a88a2d-48bf-4ca4-9d8f-c5e77fd601ef"
      },
      "outputs": [
        {
          "output_type": "stream",
          "name": "stdout",
          "text": [
            "[[16. 16. 16. 16.]\n",
            " [16. 16. 16. 16.]\n",
            " [16. 16. 16. 16.]\n",
            " [16. 16. 16. 16.]]\n"
          ]
        }
      ],
      "source": [
        "Z = np.ones((16,16))\n",
        "k = 4\n",
        "S = np.add.reduceat(np.add.reduceat(Z, np.arange(0, Z.shape[0], k), axis=0),\n",
        "                                       np.arange(0, Z.shape[1], k), axis=1)\n",
        "print(S)"
      ]
    },
    {
      "cell_type": "markdown",
      "metadata": {
        "id": "EwUE1yW2TXwr"
      },
      "source": [
        "#### 88. How to implement the Game of Life using numpy arrays? (★★★)"
      ]
    },
    {
      "cell_type": "code",
      "execution_count": null,
      "metadata": {
        "id": "nDEgbtLeTXws",
        "colab": {
          "base_uri": "https://localhost:8080/"
        },
        "outputId": "90d50171-251c-4ce1-8afe-bfb9df8a400e"
      },
      "outputs": [
        {
          "output_type": "stream",
          "name": "stdout",
          "text": [
            "[[0 0 0 ... 0 0 0]\n",
            " [0 0 0 ... 0 0 0]\n",
            " [0 0 0 ... 0 0 0]\n",
            " ...\n",
            " [0 1 1 ... 0 0 0]\n",
            " [0 0 0 ... 0 0 0]\n",
            " [0 0 0 ... 0 0 0]]\n"
          ]
        }
      ],
      "source": [
        "def iterate(Z):\n",
        "\n",
        "    N = (Z[0:-2,0:-2] + Z[0:-2,1:-1] + Z[0:-2,2:] +\n",
        "         Z[1:-1,0:-2]                + Z[1:-1,2:] +\n",
        "         Z[2:  ,0:-2] + Z[2:  ,1:-1] + Z[2:  ,2:])\n",
        "\n",
        "  \n",
        "    birth = (N==3) & (Z[1:-1,1:-1]==0)\n",
        "    survive = ((N==2) | (N==3)) & (Z[1:-1,1:-1]==1)\n",
        "    Z[...] = 0\n",
        "    Z[1:-1,1:-1][birth | survive] = 1\n",
        "    return Z\n",
        "\n",
        "Z = np.random.randint(0,2,(50,50))\n",
        "for i in range(100): Z = iterate(Z)\n",
        "print(Z)"
      ]
    },
    {
      "cell_type": "markdown",
      "metadata": {
        "id": "SDYZfkYfTXws"
      },
      "source": [
        "#### 89. How to get the n largest values of an array (★★★) \n",
        "(**hint**: np.argsort | np.argpartition)"
      ]
    },
    {
      "cell_type": "code",
      "execution_count": null,
      "metadata": {
        "id": "3njmzqPKTXwt",
        "colab": {
          "base_uri": "https://localhost:8080/"
        },
        "outputId": "71309682-dd1e-407d-a23d-bfef2709ddea"
      },
      "outputs": [
        {
          "output_type": "stream",
          "name": "stdout",
          "text": [
            "[9995 9996 9997 9998 9999]\n",
            "[9999 9998 9997 9996 9995]\n"
          ]
        }
      ],
      "source": [
        "Z = np.arange(10000)\n",
        "np.random.shuffle(Z)\n",
        "n = 5\n",
        "print (Z[np.argsort(Z)[-n:]])\n",
        "print (Z[np.argpartition(-Z,n)[:n]])"
      ]
    },
    {
      "cell_type": "markdown",
      "metadata": {
        "id": "-mH3p6RBTXwt"
      },
      "source": [
        "#### 90. Given an arbitrary number of vectors, build the cartesian product (every combinations of every item) (★★★) \n",
        "(**hint**: np.indices)"
      ]
    },
    {
      "cell_type": "code",
      "execution_count": null,
      "metadata": {
        "scrolled": true,
        "id": "_miA_j-MTXwt",
        "colab": {
          "base_uri": "https://localhost:8080/"
        },
        "outputId": "4b144f3e-561b-4c41-ef0c-1c437cac518d"
      },
      "outputs": [
        {
          "output_type": "stream",
          "name": "stdout",
          "text": [
            "[[1 4 6]\n",
            " [1 4 7]\n",
            " [1 5 6]\n",
            " [1 5 7]\n",
            " [2 4 6]\n",
            " [2 4 7]\n",
            " [2 5 6]\n",
            " [2 5 7]\n",
            " [3 4 6]\n",
            " [3 4 7]\n",
            " [3 5 6]\n",
            " [3 5 7]]\n"
          ]
        }
      ],
      "source": [
        "def cartesian(arrays):\n",
        "    arrays = [np.asarray(a) for a in arrays]\n",
        "    shape = (len(x) for x in arrays)\n",
        "\n",
        "    ix = np.indices(shape, dtype=int)\n",
        "    ix = ix.reshape(len(arrays), -1).T\n",
        "\n",
        "    for n, arr in enumerate(arrays):\n",
        "        ix[:, n] = arrays[n][ix[:, n]]\n",
        "\n",
        "    return ix\n",
        "\n",
        "print (cartesian(([1, 2, 3], [4, 5], [6, 7])))"
      ]
    },
    {
      "cell_type": "markdown",
      "metadata": {
        "id": "Iqt7vD8XTXwt"
      },
      "source": [
        "#### 91. How to create a record array from a regular array? (★★★) \n",
        "(**hint**: np.core.records.fromarrays)"
      ]
    },
    {
      "cell_type": "code",
      "execution_count": null,
      "metadata": {
        "id": "XOaNasLmTXwt",
        "colab": {
          "base_uri": "https://localhost:8080/"
        },
        "outputId": "d42de475-67af-486b-975c-8037e368376a"
      },
      "outputs": [
        {
          "output_type": "stream",
          "name": "stdout",
          "text": [
            "[(b'Hello', 2.5, 3) (b'World', 3.6, 2)]\n"
          ]
        }
      ],
      "source": [
        "Z = np.array([(\"Hello\", 2.5, 3),(\"World\", 3.6, 2)])\n",
        "R = np.core.records.fromarrays(Z.T, names='col1, col2, col3',formats = 'S8, f8, i8')\n",
        "print(R)"
      ]
    },
    {
      "cell_type": "markdown",
      "metadata": {
        "id": "6imdVA-OTXwt"
      },
      "source": [
        "#### 92. Consider a large vector Z, compute Z to the power of 3 using 3 different methods (★★★) \n",
        "(**hint**: np.power, \\*, np.einsum)"
      ]
    },
    {
      "cell_type": "code",
      "execution_count": null,
      "metadata": {
        "id": "feUY9ZzgTXwu",
        "colab": {
          "base_uri": "https://localhost:8080/"
        },
        "outputId": "cea2dadc-7e17-49c5-b72d-8c7455f34dd4"
      },
      "outputs": [
        {
          "output_type": "stream",
          "name": "stdout",
          "text": [
            "6.01 µs ± 109 ns per loop (mean ± std. dev. of 7 runs, 100000 loops each)\n",
            "1.08 µs ± 7.37 ns per loop (mean ± std. dev. of 7 runs, 1000000 loops each)\n",
            "3.01 µs ± 73 ns per loop (mean ± std. dev. of 7 runs, 100000 loops each)\n"
          ]
        }
      ],
      "source": [
        "x = np.random.rand(57)\n",
        "\n",
        "%timeit np.power(x,3)\n",
        "%timeit x*x*x\n",
        "%timeit np.einsum('i,i,i->i',x,x,x)"
      ]
    },
    {
      "cell_type": "markdown",
      "metadata": {
        "id": "zhFTmMVRTXwu"
      },
      "source": [
        "#### 93. Consider two arrays A and B of shape (8,3) and (2,2). How to find rows of A that contain elements of each row of B regardless of the order of the elements in B? (★★★) \n",
        "(**hint**: np.where)"
      ]
    },
    {
      "cell_type": "code",
      "execution_count": null,
      "metadata": {
        "id": "i_sbCKZATXwu",
        "colab": {
          "base_uri": "https://localhost:8080/"
        },
        "outputId": "28371b03-1854-419b-f958-2090a7e59a16"
      },
      "outputs": [
        {
          "output_type": "stream",
          "name": "stdout",
          "text": [
            "[2 3 5 6]\n"
          ]
        }
      ],
      "source": [
        "A = np.random.randint(0,5,(8,3))\n",
        "B = np.random.randint(0,5,(2,2))\n",
        "\n",
        "C = (A[..., np.newaxis, np.newaxis] == B)\n",
        "rows = np.where(C.any((3,1)).all(1))[0]\n",
        "print(rows)"
      ]
    },
    {
      "cell_type": "markdown",
      "metadata": {
        "id": "lX56OOPpTXwu"
      },
      "source": [
        "#### 94. Considering a 10x3 matrix, extract rows with unequal values (e.g. \\[2,2,3\\]) (★★★)"
      ]
    },
    {
      "cell_type": "code",
      "execution_count": null,
      "metadata": {
        "id": "q57XGqWHTXwu",
        "colab": {
          "base_uri": "https://localhost:8080/"
        },
        "outputId": "e82af6b3-ebf1-4468-dd2f-1576e9139150"
      },
      "outputs": [
        {
          "output_type": "stream",
          "name": "stdout",
          "text": [
            "[[1 0 2]\n",
            " [2 4 2]\n",
            " [2 1 1]\n",
            " [1 4 3]\n",
            " [4 1 4]\n",
            " [4 2 4]\n",
            " [1 0 4]\n",
            " [2 2 3]\n",
            " [1 3 4]\n",
            " [4 4 2]]\n",
            "[[1 0 2]\n",
            " [2 4 2]\n",
            " [2 1 1]\n",
            " [1 4 3]\n",
            " [4 1 4]\n",
            " [4 2 4]\n",
            " [1 0 4]\n",
            " [2 2 3]\n",
            " [1 3 4]\n",
            " [4 4 2]]\n",
            "[[1 0 2]\n",
            " [2 4 2]\n",
            " [2 1 1]\n",
            " [1 4 3]\n",
            " [4 1 4]\n",
            " [4 2 4]\n",
            " [1 0 4]\n",
            " [2 2 3]\n",
            " [1 3 4]\n",
            " [4 4 2]]\n"
          ]
        }
      ],
      "source": [
        "Z = np.random.randint(0,5,(10,3))\n",
        "print(Z)\n",
        "\n",
        "E = np.all(Z[:,1:] == Z[:,:-1], axis=1)\n",
        "U = Z[~E]\n",
        "print(U)\n",
        "\n",
        "U = Z[Z.max(axis=1) != Z.min(axis=1),:]\n",
        "print(U)"
      ]
    },
    {
      "cell_type": "markdown",
      "metadata": {
        "id": "9f0J8uupTXwu"
      },
      "source": [
        "#### 95. Convert a vector of ints into a matrix binary representation (★★★) \n",
        "(**hint**: np.unpackbits)"
      ]
    },
    {
      "cell_type": "code",
      "execution_count": null,
      "metadata": {
        "id": "OBBfmU0mTXwu",
        "colab": {
          "base_uri": "https://localhost:8080/"
        },
        "outputId": "d8c000f7-089c-486c-9078-12ea5630b92f"
      },
      "outputs": [
        {
          "output_type": "stream",
          "name": "stdout",
          "text": [
            "[[0 0 0 0 0 0 0 0]\n",
            " [0 0 0 0 0 0 0 1]\n",
            " [0 0 0 0 0 0 1 0]\n",
            " [0 0 0 0 0 0 1 1]\n",
            " [0 0 0 0 1 1 1 1]\n",
            " [0 0 0 1 0 0 0 0]\n",
            " [0 0 1 0 0 0 0 0]\n",
            " [0 1 0 0 0 0 0 0]\n",
            " [1 0 0 0 0 0 0 0]]\n",
            "[[0 0 0 0 0 0 0 0]\n",
            " [0 0 0 0 0 0 0 1]\n",
            " [0 0 0 0 0 0 1 0]\n",
            " [0 0 0 0 0 0 1 1]\n",
            " [0 0 0 0 1 1 1 1]\n",
            " [0 0 0 1 0 0 0 0]\n",
            " [0 0 1 0 0 0 0 0]\n",
            " [0 1 0 0 0 0 0 0]\n",
            " [1 0 0 0 0 0 0 0]]\n"
          ]
        }
      ],
      "source": [
        "I = np.array([0, 1, 2, 3, 15, 16, 32, 64, 128])\n",
        "B = ((I.reshape(-1,1) & (2**np.arange(8))) != 0).astype(int)\n",
        "print(B[:,::-1])\n",
        "I = np.array([0, 1, 2, 3, 15, 16, 32, 64, 128], dtype=np.uint8)\n",
        "print(np.unpackbits(I[:, np.newaxis], axis=1))"
      ]
    },
    {
      "cell_type": "markdown",
      "metadata": {
        "id": "kJq2sfXRTXwv"
      },
      "source": [
        "#### 96. Given a two dimensional array, how to extract unique rows? (★★★) \n",
        "(**hint**: np.ascontiguousarray)"
      ]
    },
    {
      "cell_type": "code",
      "execution_count": null,
      "metadata": {
        "id": "L7INM1iITXwv",
        "colab": {
          "base_uri": "https://localhost:8080/"
        },
        "outputId": "8c1e3e61-0fd0-473e-cba2-55d56caad2fd"
      },
      "outputs": [
        {
          "output_type": "stream",
          "name": "stdout",
          "text": [
            "[[0 0 0]\n",
            " [0 1 0]\n",
            " [1 0 0]\n",
            " [1 0 1]]\n"
          ]
        }
      ],
      "source": [
        "Z = np.random.randint(0,2,(6,3))\n",
        "T = np.ascontiguousarray(Z).view(np.dtype((np.void, Z.dtype.itemsize * Z.shape[1])))\n",
        "_, idx = np.unique(T, return_index=True)\n",
        "uZ = Z[idx]\n",
        "print(uZ)"
      ]
    },
    {
      "cell_type": "markdown",
      "metadata": {
        "id": "_73o3nOpTXwv"
      },
      "source": [
        "#### 97. Considering 2 vectors A & B, write the einsum equivalent of inner, outer, sum, and mul function (★★★) \n",
        "(**hint**: np.einsum)"
      ]
    },
    {
      "cell_type": "code",
      "execution_count": null,
      "metadata": {
        "id": "JrfD0YVOTXwv",
        "colab": {
          "base_uri": "https://localhost:8080/"
        },
        "outputId": "7049fa19-bf5a-4a7c-8dc1-f3b52821b522"
      },
      "outputs": [
        {
          "output_type": "execute_result",
          "data": {
            "text/plain": [
              "array([[0.01015715, 0.21581129, 0.70994806, 0.45703652, 0.49393196,\n",
              "        0.50873951, 0.46288431, 0.65627976, 0.67926379, 0.2664475 ],\n",
              "       [0.00763015, 0.16211957, 0.53331999, 0.34333034, 0.37104657,\n",
              "        0.38217014, 0.34772327, 0.49300384, 0.51026966, 0.200158  ],\n",
              "       [0.01049174, 0.22292047, 0.73333492, 0.47209205, 0.5102029 ,\n",
              "        0.52549823, 0.47813249, 0.6778987 , 0.70163986, 0.27522472],\n",
              "       [0.00918946, 0.19525073, 0.64231059, 0.41349419, 0.44687457,\n",
              "        0.46027139, 0.41878486, 0.59375533, 0.61454964, 0.24106278],\n",
              "       [0.0029487 , 0.06265169, 0.20610341, 0.13268124, 0.14339227,\n",
              "        0.14769102, 0.1343789 , 0.19052309, 0.19719553, 0.07735177],\n",
              "       [0.00160291, 0.03405743, 0.11203772, 0.07212546, 0.07794797,\n",
              "        0.08028476, 0.0730483 , 0.10356826, 0.1071954 , 0.04204839],\n",
              "       [0.00716113, 0.15215429, 0.5005375 , 0.32222627, 0.34823881,\n",
              "        0.35867864, 0.32634917, 0.46269953, 0.47890405, 0.18785454],\n",
              "       [0.00347863, 0.07391133, 0.24314393, 0.15652646, 0.16916246,\n",
              "        0.17423377, 0.15852922, 0.22476354, 0.23263514, 0.09125329],\n",
              "       [0.00716096, 0.15215072, 0.50052576, 0.32221872, 0.34823065,\n",
              "        0.35867023, 0.32634151, 0.46268868, 0.47889282, 0.18785014],\n",
              "       [0.00765439, 0.1626346 , 0.53501428, 0.34442106, 0.37222533,\n",
              "        0.38338425, 0.34882794, 0.49457005, 0.51189072, 0.20079387]])"
            ]
          },
          "metadata": {},
          "execution_count": 78
        }
      ],
      "source": [
        "A = np.random.uniform(0,1,10)\n",
        "B = np.random.uniform(0,1,10)\n",
        "np.einsum('i->', A)      \n",
        "np.einsum('i,i->i', A, B)\n",
        "np.einsum('i,i', A, B)   \n",
        "np.einsum('i,j->ij', A, B)   "
      ]
    },
    {
      "cell_type": "markdown",
      "metadata": {
        "id": "_W0UQQaQTXwv"
      },
      "source": [
        "#### 98. Considering a path described by two vectors (X,Y), how to sample it using equidistant samples (★★★)? \n",
        "(**hint**: np.cumsum, np.interp)"
      ]
    },
    {
      "cell_type": "code",
      "execution_count": null,
      "metadata": {
        "collapsed": true,
        "id": "HmZHV-aqTXwv",
        "colab": {
          "base_uri": "https://localhost:8080/"
        },
        "outputId": "4165f984-a850-4f26-96cd-2b5333fadfee"
      },
      "outputs": [
        {
          "output_type": "stream",
          "name": "stdout",
          "text": [
            "[  0.           2.48788858   4.97577716   7.46366574   9.95155432\n",
            "  12.43944289  14.92733147  17.41522005  19.90310863  22.39099721\n",
            "  24.87888579  27.36677437  29.85466295  32.34255152  34.8304401\n",
            "  37.31832868  39.80621726  42.29410584  44.78199442  47.269883\n",
            "  49.75777158  52.24566016  54.73354873  57.22143731  59.70932589\n",
            "  62.19721447  64.68510305  67.17299163  69.66088021  72.14876879\n",
            "  74.63665736  77.12454594  79.61243452  82.1003231   84.58821168\n",
            "  87.07610026  89.56398884  92.05187742  94.539766    97.02765457\n",
            "  99.51554315 102.00343173 104.49132031 106.97920889 109.46709747\n",
            " 111.95498605 114.44287463 116.9307632  119.41865178 121.90654036\n",
            " 124.39442894 126.88231752 129.3702061  131.85809468 134.34598326\n",
            " 136.83387184 139.32176041 141.80964899 144.29753757 146.78542615\n",
            " 149.27331473 151.76120331 154.24909189 156.73698047 159.22486904\n",
            " 161.71275762 164.2006462  166.68853478 169.17642336 171.66431194\n",
            " 174.15220052 176.6400891  179.12797768 181.61586625 184.10375483\n",
            " 186.59164341 189.07953199 191.56742057 194.05530915 196.54319773\n",
            " 199.03108631 201.51897488 204.00686346 206.49475204 208.98264062\n",
            " 211.4705292  213.95841778 216.44630636 218.93419494 221.42208352\n",
            " 223.90997209 226.39786067 228.88574925 231.37363783 233.86152641\n",
            " 236.34941499 238.83730357 241.32519215 243.81308072 246.3009693\n",
            " 248.78885788 251.27674646 253.76463504 256.25252362 258.7404122\n",
            " 261.22830078 263.71618936 266.20407793 268.69196651 271.17985509\n",
            " 273.66774367 276.15563225 278.64352083 281.13140941 283.61929799\n",
            " 286.10718656 288.59507514 291.08296372 293.5708523  296.05874088\n",
            " 298.54662946 301.03451804 303.52240662 306.0102952  308.49818377\n",
            " 310.98607235 313.47396093 315.96184951 318.44973809 320.93762667\n",
            " 323.42551525 325.91340383 328.4012924  330.88918098 333.37706956\n",
            " 335.86495814 338.35284672 340.8407353  343.32862388 345.81651246\n",
            " 348.30440104 350.79228961 353.28017819 355.76806677 358.25595535\n",
            " 360.74384393 363.23173251 365.71962109 368.20750967 370.69539824\n",
            " 373.18328682 375.6711754  378.15906398 380.64695256 383.13484114\n",
            " 385.62272972 388.1106183  390.59850688 393.08639545 395.57428403\n",
            " 398.06217261 400.55006119 403.03794977 405.52583835 408.01372693\n",
            " 410.50161551 412.98950408 415.47739266 417.96528124 420.45316982\n",
            " 422.9410584  425.42894698 427.91683556 430.40472414 432.89261272\n",
            " 435.38050129 437.86838987 440.35627845 442.84416703 445.33205561\n",
            " 447.81994419 450.30783277 452.79572135 455.28360992 457.7714985\n",
            " 460.25938708 462.74727566 465.23516424 467.72305282 470.2109414\n",
            " 472.69882998 475.18671856 477.67460713 480.16249571 482.65038429\n",
            " 485.13827287 487.62616145 490.11405003 492.60193861 495.08982719] [ 0.00000000e+00 -3.73131229e-01 -2.59817608e+00 -3.26212050e+00\n",
            " -2.18442687e+00 -2.98929946e-02  2.42923642e+00  4.54913599e+00\n",
            "  5.92318348e+00  6.35117933e+00  5.82369277e+00  4.46259540e+00\n",
            "  2.47320794e+00  1.09577220e-01 -2.36575300e+00 -4.71261671e+00\n",
            " -6.72701769e+00 -8.25541575e+00 -9.18486120e+00 -9.46381505e+00\n",
            " -9.11085788e+00 -8.12875279e+00 -6.63306046e+00 -4.69271059e+00\n",
            " -2.44736165e+00 -2.05444585e-02  2.46101146e+00  4.86841760e+00\n",
            "  7.08937968e+00  9.02539126e+00  1.05948609e+01  1.17357250e+01\n",
            "  1.24068974e+01  1.25885805e+01  1.22815267e+01  1.15053927e+01\n",
            "  1.02963689e+01  8.70429550e+00  6.78948686e+00  4.61716636e+00\n",
            "  2.25853448e+00 -1.98731680e-01 -2.68040566e+00 -5.11543300e+00\n",
            " -7.41973991e+00 -9.53891040e+00 -1.14237629e+01 -1.29919305e+01\n",
            " -1.42355069e+01 -1.51243232e+01 -1.56061571e+01 -1.57219415e+01\n",
            " -1.54217066e+01 -1.47579136e+01 -1.37255236e+01 -1.23634834e+01\n",
            " -1.07024632e+01 -8.78327367e+00 -6.65029558e+00 -4.35514246e+00\n",
            " -1.94290275e+00  5.28038914e-01  3.00985904e+00  5.45450275e+00\n",
            "  7.80093594e+00  1.00179639e+01  1.20595602e+01  1.38732623e+01\n",
            "  1.54564938e+01  1.67497894e+01  1.77435802e+01  1.84439878e+01\n",
            "  1.87990820e+01  1.88271003e+01  1.85472755e+01  1.79378850e+01\n",
            "  1.70105456e+01  1.58085777e+01  1.43501808e+01  1.26222364e+01\n",
            "  1.06905445e+01  8.58498641e+00  6.33562529e+00  3.96179025e+00\n",
            "  1.51802643e+00 -9.61699044e-01 -3.44349301e+00 -5.88951759e+00\n",
            " -8.26006582e+00 -1.05270865e+01 -1.26610269e+01 -1.46343020e+01\n",
            " -1.64206033e+01 -1.79708499e+01 -1.92894561e+01 -2.03605967e+01\n",
            " -2.11716587e+01 -2.17133504e+01 -2.19797677e+01 -2.19626531e+01\n",
            " -2.16476737e+01 -2.10622561e+01 -2.02145809e+01 -1.91158467e+01\n",
            " -1.77800930e+01 -1.62239930e+01 -1.44666197e+01 -1.25291882e+01\n",
            " -1.04347777e+01 -8.20773276e+00 -5.86978851e+00 -3.45563299e+00\n",
            " -9.92556869e-01  1.49191203e+00  3.97031733e+00  6.41557503e+00\n",
            "  8.80126359e+00  1.11019001e+01  1.32931995e+01  1.53523150e+01\n",
            "  1.72580567e+01  1.89910866e+01  2.05340895e+01  2.18719167e+01\n",
            "  2.29917039e+01  2.38829603e+01  2.45376309e+01  2.49501314e+01\n",
            "  2.51173551e+01  2.50386548e+01  2.47157984e+01  2.41529019e+01\n",
            "  2.33563391e+01  2.23346314e+01  2.10983193e+01  1.96598169e+01\n",
            "  1.80332532e+01  1.62343003e+01  1.42799934e+01  1.21885425e+01\n",
            "  9.97914013e+00  7.67176574e+00  5.28699023e+00  2.84441658e+00\n",
            "  3.68190102e-01 -2.11846865e+00 -4.59426061e+00 -7.03829202e+00\n",
            " -9.43024209e+00 -1.17505186e+01 -1.39803999e+01 -1.61021634e+01\n",
            " -1.80991985e+01 -1.99561058e+01 -2.16587804e+01 -2.31850397e+01\n",
            " -2.45166960e+01 -2.56568097e+01 -2.65976904e+01 -2.73332424e+01\n",
            " -2.78589555e+01 -2.81718833e+01 -2.82706110e+01 -2.81552119e+01\n",
            " -2.78066635e+01 -2.72341677e+01 -2.64578863e+01 -2.54844118e+01\n",
            " -2.43214986e+01 -2.29779690e+01 -2.14636172e+01 -1.97837046e+01\n",
            " -1.79341987e+01 -1.59545785e+01 -1.38585628e+01 -1.16602783e+01\n",
            " -9.37416511e+00 -7.01488958e+00 -4.59184632e+00 -2.12995331e+00\n",
            "  3.50691071e-01  2.83498918e+00  5.30813450e+00  7.75565814e+00\n",
            "  1.01522531e+01  1.24813227e+01  1.47337756e+01  1.68973642e+01\n",
            "  1.89604991e+01  2.09071945e+01  2.26943693e+01  2.43420179e+01\n",
            "  2.58422998e+01  2.71881423e+01  2.83731992e+01  2.93376609e+01\n",
            "  3.01222558e+01  3.07280750e+01  3.11531219e+01  3.13960177e+01] [ 0.00000000e+00  1.74026724e+00  9.81816584e-01 -1.34251287e+00\n",
            " -3.53191891e+00 -4.70449474e+00 -4.59573427e+00 -3.33831870e+00\n",
            " -1.28956083e+00  1.14234685e+00  3.55645601e+00  5.62188218e+00\n",
            "  7.09389488e+00  7.82951803e+00  7.78700678e+00  6.99685666e+00\n",
            "  5.55535240e+00  3.60417006e+00  1.30506373e+00 -1.15819722e+00\n",
            " -3.61328132e+00 -5.89130465e+00 -7.87065053e+00 -9.41689057e+00\n",
            " -1.04714836e+01 -1.09903787e+01 -1.09354306e+01 -1.03330912e+01\n",
            " -9.22690166e+00 -7.67489830e+00 -5.75257980e+00 -3.54832201e+00\n",
            " -1.15854355e+00  1.31709956e+00  3.78023622e+00  6.13780326e+00\n",
            "  8.30540149e+00  1.02098724e+01  1.17910419e+01  1.29972950e+01\n",
            "  1.37774249e+01  1.41319792e+01  1.40585758e+01  1.35636816e+01\n",
            "  1.26345244e+01  1.13409083e+01  9.72216360e+00  7.79464305e+00\n",
            "  5.64544223e+00  3.32503222e+00  8.88107041e-01 -1.59329248e+00\n",
            " -4.05992507e+00 -6.45313746e+00 -8.71327144e+00 -1.07900854e+01\n",
            " -1.26380653e+01 -1.42147006e+01 -1.54892299e+01 -1.64390858e+01\n",
            " -1.70351433e+01 -1.72938948e+01 -1.71685631e+01 -1.67219979e+01\n",
            " -1.59044166e+01 -1.47824153e+01 -1.33665280e+01 -1.16678134e+01\n",
            " -9.75246391e+00 -7.63091465e+00 -5.35345831e+00 -2.96905840e+00\n",
            " -5.09631905e-01  1.97507060e+00  4.44430515e+00  6.85344809e+00\n",
            "  9.15903461e+00  1.13337844e+01  1.33467125e+01  1.51336120e+01\n",
            "  1.66966787e+01  1.80162922e+01  1.90746708e+01  1.98127969e+01\n",
            "  2.02634499e+01  2.04221761e+01  2.02877631e+01  1.98449702e+01\n",
            "  1.90974465e+01  1.80799531e+01  1.68069397e+01  1.52959771e+01\n",
            "  1.35665801e+01  1.16227312e+01  9.51601869e+00  7.27388893e+00\n",
            "  4.92519240e+00  2.49981337e+00  2.82932820e-02 -2.45817963e+00\n",
            " -4.92460367e+00 -7.34030894e+00 -9.67635928e+00 -1.19050601e+01\n",
            " -1.40002645e+01 -1.59376556e+01 -1.76950019e+01 -1.92523833e+01\n",
            " -2.05923861e+01 -2.16995543e+01 -2.25478860e+01 -2.31432552e+01\n",
            " -2.34800725e+01 -2.35556687e+01 -2.33702741e+01 -2.29269662e+01\n",
            " -2.22315865e+01 -2.12926288e+01 -2.01211000e+01 -1.87303570e+01\n",
            " -1.71359212e+01 -1.53552740e+01 -1.34076356e+01 -1.13137308e+01\n",
            " -9.09554383e+00 -6.77606668e+00 -4.37904252e+00 -1.92870828e+00\n",
            "  5.50461201e-01  3.03400451e+00  5.49771780e+00  7.91788934e+00\n",
            "  1.02715222e+01  1.25365431e+01  1.46919953e+01  1.67182148e+01\n",
            "  1.85969872e+01  2.03116866e+01  2.18473923e+01  2.31909872e+01\n",
            "  2.43312337e+01  2.52588296e+01  2.59664444e+01  2.64391214e+01\n",
            "  2.66748505e+01  2.66796333e+01  2.64545680e+01  2.60026765e+01\n",
            "  2.53288265e+01  2.44396400e+01  2.33433894e+01  2.20498837e+01\n",
            "  2.05703459e+01  1.89172843e+01  1.71043584e+01  1.51396391e+01\n",
            "  1.30387952e+01  1.08294252e+01  8.52903617e+00  6.15551380e+00\n",
            "  3.72697869e+00  1.26164946e+00 -1.22228693e+00 -3.70679651e+00\n",
            " -6.17014862e+00 -8.59028675e+00 -1.09516293e+01 -1.32379536e+01\n",
            " -1.54338179e+01 -1.75246263e+01 -1.94966815e+01 -2.13317519e+01\n",
            " -2.29952001e+01 -2.44987532e+01 -2.58335652e+01 -2.69919481e+01\n",
            " -2.79673583e+01 -2.87543764e+01 -2.93186910e+01 -2.96679958e+01\n",
            " -2.98181354e+01 -2.97693731e+01 -2.95229769e+01 -2.90811595e+01\n",
            " -2.84133854e+01 -2.75430665e+01 -2.64934034e+01 -2.52713717e+01\n",
            " -2.38845608e+01 -2.23353782e+01 -2.06051319e+01 -1.87442619e+01\n",
            " -1.67635423e+01 -1.46739620e+01 -1.24866789e+01 -1.01933401e+01\n",
            " -7.83474328e+00 -5.42495146e+00 -2.97607515e+00 -5.00072086e-01]\n"
          ]
        }
      ],
      "source": [
        "phi = np.arange(0, 10*np.pi, 0.1)\n",
        "a = 1\n",
        "x = a*phi*np.cos(phi)\n",
        "y = a*phi*np.sin(phi)\n",
        "dr = (np.diff(x)**2 + np.diff(y)**2)**.5\n",
        "r = np.zeros_like(x)\n",
        "r[1:] = np.cumsum(dr)                \n",
        "r_int = np.linspace(0, r.max(), 200)\n",
        "x_int = np.interp(r_int, r, x)     \n",
        "y_int = np.interp(r_int, r, y)\n",
        "print(r_int,x_int,y_int)"
      ]
    },
    {
      "cell_type": "markdown",
      "metadata": {
        "id": "NExWLDJ5TXwv"
      },
      "source": [
        "#### 99. Given an integer n and a 2D array X, select from X the rows which can be interpreted as draws from a multinomial distribution with n degrees, i.e., the rows which only contain integers and which sum to n. (★★★) \n",
        "(**hint**: np.logical\\_and.reduce, np.mod)"
      ]
    },
    {
      "cell_type": "code",
      "execution_count": null,
      "metadata": {
        "id": "VBO0exvRTXww",
        "colab": {
          "base_uri": "https://localhost:8080/"
        },
        "outputId": "77c4dc43-c6e8-44d9-f075-e94ffd80af46"
      },
      "outputs": [
        {
          "output_type": "stream",
          "name": "stdout",
          "text": [
            "[[2. 0. 1. 1.]]\n"
          ]
        }
      ],
      "source": [
        "X = np.asarray([[1.0, 0.0, 3.0, 8.0],[2.0, 0.0, 1.0, 1.0],[1.5, 2.5, 1.0, 0.0]])\n",
        "n = 4\n",
        "M = np.logical_and.reduce(np.mod(X, 1) == 0, axis=-1)\n",
        "M &= (X.sum(axis=-1) == n)\n",
        "print(X[M])"
      ]
    },
    {
      "cell_type": "markdown",
      "metadata": {
        "id": "BNWOUwJFTXww"
      },
      "source": [
        "#### 100. Compute bootstrapped 95% confidence intervals for the mean of a 1D array X (i.e., resample the elements of an array with replacement N times, compute the mean of each sample, and then compute percentiles over the means). (★★★) \n",
        "(**hint**: np.percentile)"
      ]
    },
    {
      "cell_type": "code",
      "execution_count": null,
      "metadata": {
        "id": "G1mvngDxTXww",
        "colab": {
          "base_uri": "https://localhost:8080/"
        },
        "outputId": "f9b968e3-c8f9-4e06-8e9c-13e3758ae01a"
      },
      "outputs": [
        {
          "output_type": "stream",
          "name": "stdout",
          "text": [
            "[-0.19786365  0.23783131]\n"
          ]
        }
      ],
      "source": [
        "X = np.random.randn(100) \n",
        "N = 1000\n",
        "idx = np.random.randint(0, X.size, (N, X.size))\n",
        "means = X[idx].mean(axis=1)\n",
        "confint = np.percentile(means, [2.5, 97.5])\n",
        "print(confint)"
      ]
    }
  ],
  "metadata": {
    "kernelspec": {
      "display_name": "Python 3",
      "language": "python",
      "name": "python3"
    },
    "language_info": {
      "codemirror_mode": {
        "name": "ipython",
        "version": 3
      },
      "file_extension": ".py",
      "mimetype": "text/x-python",
      "name": "python",
      "nbconvert_exporter": "python",
      "pygments_lexer": "ipython3",
      "version": "3.8.3"
    },
    "colab": {
      "provenance": [],
      "collapsed_sections": [
        "BGFQszbiTXv-",
        "BqJF9CVOTXv-",
        "Atu9IXbOTXv_",
        "1Sq_p2q1TXwA",
        "f2ubBqEWTXwA",
        "f_T7yn5XTXwB",
        "hvhrL-QnTXwB",
        "Bn83Dp92TXwB",
        "2OZDsvBQTXwD",
        "BthB_ckhTXwE",
        "ltNO6g5tTXwF",
        "bBigrmEJTXwG",
        "G1xXmCTdTXwG",
        "bzhLhIgfTXwH",
        "KL3C1xNHTXwH",
        "b6cO5KupTXwI",
        "2-FvAZLSTXwJ",
        "w8-m242RTXwJ",
        "ZrkuFxKZTXwJ",
        "ctiglRZhTXwK",
        "jiHwLAY-TXwL",
        "9u_wGa30TXwL",
        "wfz1kIxPTXwL",
        "h53_4MrFTXwN",
        "eiW-EJlTTXwN",
        "L6gv6cGcTXwO",
        "Ve9OdEkUTXwO",
        "J9YRekrlTXwP",
        "kAvRPa9BTXwP",
        "IZXe6vdVTXwQ",
        "scrbhURoTXwR",
        "0Jp81EjnTXwR",
        "ZDXUpRQMTXwS",
        "UkPbvqPWTXwS",
        "PN2_29GoTXwS",
        "eim1JC8BTXwT",
        "6p2MA85MTXwT",
        "5W-R_VtgTXwU",
        "mxDhMy1ZTXwU",
        "IBl8gf_RTXwV",
        "IhNnVOPRTXwW",
        "2NXr9SdETXwX",
        "-wTPVqjCTXwX",
        "NRQUONwKTXwX",
        "FAxG04YZTXwY",
        "qNewJQgRTXwY",
        "OYFzD_i5TXwY",
        "6zwrCMEMTXwZ",
        "bqYdyqJCTXwZ",
        "i67V69dzTXwa",
        "_W_gbR30TXwa",
        "0xaT0DUfTXwa",
        "SgQZyjImTXwa",
        "n63WiTT3TXwb",
        "21LXvJ9YTXwb",
        "cszBnwNnTXwb",
        "PVuIDXfITXwc",
        "w9b-yUXkTXwc",
        "09IBYyIQTXwf",
        "RibSHuwoTXwg",
        "O4uDziHWTXwg",
        "1t99aBUcTXwh",
        "K5lW8BWeTXwh",
        "haA_-xTpTXwh",
        "uUMJ0ytlTXwi",
        "70jCU0qTTXwi",
        "-HKjist8TXwj",
        "6CItY-IpTXwk",
        "rYx5sBK8TXwl",
        "Jn9mbKByTXwn",
        "SCmwHnn_TXwo",
        "nogRjxsNTXwo",
        "5eJ3edFATXwp",
        "-d8p9JqcTXwp",
        "uHmn3EPPTXwp",
        "3mZzeW8TTXwq",
        "mU-CUwftTXwq",
        "m-0McPLaTXwq",
        "PQ9Od2GSTXwr",
        "phQYyGvzTXwr",
        "EwUE1yW2TXwr",
        "SDYZfkYfTXws",
        "-mH3p6RBTXwt",
        "Iqt7vD8XTXwt",
        "6imdVA-OTXwt",
        "zhFTmMVRTXwu",
        "lX56OOPpTXwu",
        "9f0J8uupTXwu",
        "kJq2sfXRTXwv",
        "_73o3nOpTXwv",
        "_W0UQQaQTXwv",
        "NExWLDJ5TXwv",
        "BNWOUwJFTXww"
      ]
    }
  },
  "nbformat": 4,
  "nbformat_minor": 0
}